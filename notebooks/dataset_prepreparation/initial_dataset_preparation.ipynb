{
 "cells": [
  {
   "cell_type": "code",
   "execution_count": null,
   "id": "initial_id",
   "metadata": {
    "collapsed": true
   },
   "outputs": [],
   "source": []
  },
  {
   "cell_type": "markdown",
   "source": [
    "# Завантаження датасетів"
   ],
   "metadata": {
    "collapsed": false
   },
   "id": "9f32efa7b5de719b"
  },
  {
   "cell_type": "code",
   "execution_count": 3,
   "outputs": [],
   "source": [
    "from datasets import load_dataset"
   ],
   "metadata": {
    "collapsed": false,
    "ExecuteTime": {
     "end_time": "2024-05-11T19:54:54.353804Z",
     "start_time": "2024-05-11T19:54:53.422192Z"
    }
   },
   "id": "b9dea955bc01e4d5"
  },
  {
   "cell_type": "code",
   "execution_count": 4,
   "outputs": [],
   "source": [
    "queries = load_dataset('irds/clinicaltrials_2021_trec-ct-2021', 'queries', trust_remote_code=True)"
   ],
   "metadata": {
    "collapsed": false,
    "ExecuteTime": {
     "end_time": "2024-05-11T19:54:58.471555Z",
     "start_time": "2024-05-11T19:54:55.811445Z"
    }
   },
   "id": "61eab8ef1eb0802f"
  },
  {
   "cell_type": "code",
   "execution_count": 5,
   "outputs": [],
   "source": [
    "docs = load_dataset('irds/clinicaltrials_2021', 'docs', trust_remote_code=True)"
   ],
   "metadata": {
    "collapsed": false,
    "ExecuteTime": {
     "end_time": "2024-05-11T19:55:01.220446Z",
     "start_time": "2024-05-11T19:54:59.380080Z"
    }
   },
   "id": "f70fe82fa0c910f6"
  },
  {
   "cell_type": "code",
   "execution_count": 6,
   "outputs": [],
   "source": [
    "qrels = load_dataset('irds/clinicaltrials_2021_trec-ct-2021', 'qrels', trust_remote_code=True)"
   ],
   "metadata": {
    "collapsed": false,
    "ExecuteTime": {
     "end_time": "2024-05-11T19:55:04.239007Z",
     "start_time": "2024-05-11T19:55:02.310756Z"
    }
   },
   "id": "dba31084fa434b73"
  },
  {
   "cell_type": "markdown",
   "source": [
    "### Конвертація у датафрейми"
   ],
   "metadata": {
    "collapsed": false
   },
   "id": "db16d9b310045b0d"
  },
  {
   "cell_type": "markdown",
   "source": [
    "#### QUERIES"
   ],
   "metadata": {
    "collapsed": false
   },
   "id": "192f3fb66c0ebce5"
  },
  {
   "cell_type": "code",
   "execution_count": 7,
   "outputs": [],
   "source": [
    "from nltk.tokenize import sent_tokenize\n",
    "import pandas as pd"
   ],
   "metadata": {
    "collapsed": false,
    "ExecuteTime": {
     "end_time": "2024-05-11T19:55:10.138002Z",
     "start_time": "2024-05-11T19:55:08.936486Z"
    }
   },
   "id": "5e232c27c1bb9944"
  },
  {
   "cell_type": "code",
   "execution_count": 8,
   "outputs": [],
   "source": [
    "processed_records = []\n",
    "\n",
    "for record in queries:\n",
    "    sentences = sent_tokenize(record['text'])\n",
    "    sentences = [sentence for sentence in sentences if sentence]\n",
    "    processed_text = '\\n'.join(f\"{i}. {sentence.strip()}\" for i, sentence in enumerate(sentences, start=1))\n",
    "    processed_records.append({'query_id': record['query_id'], 'text': processed_text})"
   ],
   "metadata": {
    "collapsed": false,
    "ExecuteTime": {
     "end_time": "2024-05-11T19:55:11.877460Z",
     "start_time": "2024-05-11T19:55:11.845883Z"
    }
   },
   "id": "4e9afacfd9b47161"
  },
  {
   "cell_type": "code",
   "execution_count": 9,
   "outputs": [],
   "source": [
    "df_queries = pd.DataFrame(processed_records)"
   ],
   "metadata": {
    "collapsed": false,
    "ExecuteTime": {
     "end_time": "2024-05-11T19:55:13.427804Z",
     "start_time": "2024-05-11T19:55:13.402891Z"
    }
   },
   "id": "30365976f403ed25"
  },
  {
   "cell_type": "code",
   "execution_count": 10,
   "outputs": [
    {
     "data": {
      "text/plain": "   query_id                                               text\n4         5  1. 74M hx of CAD s/p CABG, EF 60% prior CVA (n...\n30       31  1. The patient is a 37-year-old woman who came...\n31       32  1. A 17 year old boy  complains of vomiting, n...\n46       47  1. A 62-year-old African-American man presente...\n37       38  1. The patient is a 35-year-old woman with mya...\n21       22  1. The patient is a 31-year-old woman complain...\n0         1  1. Patient is a 45-year-old man with a history...\n70       71  1. The patient is a 34-year-old obese woman wh...\n41       42  1. 19 yo Hispanic female G1P1 at 32+ 6 weeks o...\n60       61  1. The patient is a 45-year-old postmenopausal...",
      "text/html": "<div>\n<style scoped>\n    .dataframe tbody tr th:only-of-type {\n        vertical-align: middle;\n    }\n\n    .dataframe tbody tr th {\n        vertical-align: top;\n    }\n\n    .dataframe thead th {\n        text-align: right;\n    }\n</style>\n<table border=\"1\" class=\"dataframe\">\n  <thead>\n    <tr style=\"text-align: right;\">\n      <th></th>\n      <th>query_id</th>\n      <th>text</th>\n    </tr>\n  </thead>\n  <tbody>\n    <tr>\n      <th>4</th>\n      <td>5</td>\n      <td>1. 74M hx of CAD s/p CABG, EF 60% prior CVA (n...</td>\n    </tr>\n    <tr>\n      <th>30</th>\n      <td>31</td>\n      <td>1. The patient is a 37-year-old woman who came...</td>\n    </tr>\n    <tr>\n      <th>31</th>\n      <td>32</td>\n      <td>1. A 17 year old boy  complains of vomiting, n...</td>\n    </tr>\n    <tr>\n      <th>46</th>\n      <td>47</td>\n      <td>1. A 62-year-old African-American man presente...</td>\n    </tr>\n    <tr>\n      <th>37</th>\n      <td>38</td>\n      <td>1. The patient is a 35-year-old woman with mya...</td>\n    </tr>\n    <tr>\n      <th>21</th>\n      <td>22</td>\n      <td>1. The patient is a 31-year-old woman complain...</td>\n    </tr>\n    <tr>\n      <th>0</th>\n      <td>1</td>\n      <td>1. Patient is a 45-year-old man with a history...</td>\n    </tr>\n    <tr>\n      <th>70</th>\n      <td>71</td>\n      <td>1. The patient is a 34-year-old obese woman wh...</td>\n    </tr>\n    <tr>\n      <th>41</th>\n      <td>42</td>\n      <td>1. 19 yo Hispanic female G1P1 at 32+ 6 weeks o...</td>\n    </tr>\n    <tr>\n      <th>60</th>\n      <td>61</td>\n      <td>1. The patient is a 45-year-old postmenopausal...</td>\n    </tr>\n  </tbody>\n</table>\n</div>"
     },
     "execution_count": 10,
     "metadata": {},
     "output_type": "execute_result"
    }
   ],
   "source": [
    "df_queries.sample(10)"
   ],
   "metadata": {
    "collapsed": false,
    "ExecuteTime": {
     "end_time": "2024-05-11T19:55:14.825500Z",
     "start_time": "2024-05-11T19:55:14.728013Z"
    }
   },
   "id": "fc3871753f65f5a4"
  },
  {
   "cell_type": "code",
   "execution_count": 11,
   "outputs": [
    {
     "data": {
      "text/plain": "(75, 2)"
     },
     "execution_count": 11,
     "metadata": {},
     "output_type": "execute_result"
    }
   ],
   "source": [
    "df_queries.shape"
   ],
   "metadata": {
    "collapsed": false,
    "ExecuteTime": {
     "end_time": "2024-05-11T19:55:28.498050Z",
     "start_time": "2024-05-11T19:55:28.391659Z"
    }
   },
   "id": "3877c06957d43850"
  },
  {
   "cell_type": "code",
   "execution_count": 12,
   "outputs": [
    {
     "name": "stdout",
     "output_type": "stream",
     "text": [
      "1. Patient is a 45-year-old man with a history of anaplastic astrocytoma of the spine complicated by severe lower extremity weakness and urinary retention s/p Foley catheter, high-dose steroids, hypertension, and chronic pain.\n",
      "2. The tumor is located in the T-L spine, unresectable anaplastic astrocytoma s/p radiation.\n",
      "3. Complicated by progressive lower extremity weakness and urinary retention.\n",
      "4. Patient initially presented with RLE weakness where his right knee gave out with difficulty walking and right anterior thigh numbness.\n",
      "5. MRI showed a spinal cord conus mass which was biopsied and found to be anaplastic astrocytoma.\n",
      "6. Therapy included field radiation t10-l1 followed by 11 cycles of temozolomide 7 days on and 7 days off.\n",
      "7. This was followed by CPT-11 Weekly x4 with Avastin Q2 weeks/ 2 weeks rest and repeat cycle.\n"
     ]
    }
   ],
   "source": [
    "print(df_queries.iloc[0, 1])"
   ],
   "metadata": {
    "collapsed": false,
    "ExecuteTime": {
     "end_time": "2024-05-11T19:55:53.092587Z",
     "start_time": "2024-05-11T19:55:53.045504Z"
    }
   },
   "id": "e75e5466ead0663"
  },
  {
   "cell_type": "markdown",
   "source": [
    "#### DOCS"
   ],
   "metadata": {
    "collapsed": false
   },
   "id": "a924b12626022b6e"
  },
  {
   "cell_type": "code",
   "execution_count": 13,
   "outputs": [],
   "source": [
    "df_docs = pd.DataFrame(docs)"
   ],
   "metadata": {
    "collapsed": false,
    "ExecuteTime": {
     "end_time": "2024-05-11T20:45:25.631756Z",
     "start_time": "2024-05-11T20:45:07.313151Z"
    }
   },
   "id": "b2d67f175a5a147f"
  },
  {
   "cell_type": "code",
   "execution_count": 14,
   "outputs": [
    {
     "data": {
      "text/plain": "             doc_id                                              title  \\\n31890   NCT00365846  \"A Pilot Study to Determine the Safety of Camp...   \n43434   NCT00519246  Comparison of Pain Therapeutic Effects After B...   \n71441   NCT00889902  Molecular Markers in Cervical Cancer Screening...   \n235771  NCT03041428  Ultra Protective Ventilation During Venoarteri...   \n68645   NCT00853021  Bevacizumab and Aldesleukin in Treating Patien...   \n5980    NCT00013299  Clinical Trials of Footwear in Patients With D...   \n327466  NCT04235855  EUS Guided Liver Biopsy - Will it Give Better ...   \n31853   NCT00365352  XP13512 vs. Placebo in Patients With Restless ...   \n123010  NCT01567969              Family Health and Development Project   \n56961   NCT00698711  Vaccination of Prostate Cancer Patients With M...   \n\n       condition                                            summary  \\\n31890             \\n    \\n      The purpose of the study is to s...   \n43434             \\n    \\n      With the incremental trend of be...   \n71441             \\n    \\n      The purpose of this study is to:...   \n235771            \\n    \\n      Mechanical ventilation, in spite...   \n68645             \\n    \\n      RATIONALE: Monoclonal antibodies...   \n5980              \\n    \\n      This is a randomized clinical tr...   \n327466            \\n    \\n      Liver biopsy would be done by En...   \n31853             \\n    \\n      The primary objective of this tr...   \n123010            \\n    \\n      The Family Health and Developmen...   \n56961             \\n    \\n      The purpose of this research is ...   \n\n                                     detailed_description  \\\n31890   \\n    \\n      Twenty nine primary recipients o...   \n43434                                                       \n71441   \\n    \\n      1. To carry out large-scale pros...   \n235771  \\n    \\n      Mechanical ventilation is the co...   \n68645   \\n    \\n      OBJECTIVES:\\r\\n\\r\\n      Primary...   \n5980    \\n    \\n      This is a randomized clinical tr...   \n327466  \\n    \\n      In this study, we aim to evaluat...   \n31853   \\n    \\n      This was a 12-week, multicenter,...   \n123010  \\n    \\n      The Family Health and Developmen...   \n56961                                                       \n\n                                              eligibility  \n31890   \\n      \\n        Inclusion Criteria:\\r\\n\\r\\n ...  \n43434   \\n      \\n        Inclusion Criteria:\\r\\n\\r\\n ...  \n71441   \\n      \\n        Inclusion Criteria:\\r\\n\\r\\n ...  \n235771  \\n      \\n        Inclusion Criteria:\\r\\n\\r\\n ...  \n68645   \\n      \\n        DISEASE CHARACTERISTICS:\\r\\n...  \n5980    \\n      \\n        Diabetics with foot ulcerati...  \n327466  \\n      \\n        Inclusion Criteria:\\r\\n\\r\\n ...  \n31853   \\n      \\n        Inclusion Criteria:\\r\\n\\r\\n ...  \n123010  \\n      \\n        Inclusion Criteria:\\r\\n\\r\\n ...  \n56961   \\n      \\n        Inclusion Criteria:\\r\\n\\r\\n ...  ",
      "text/html": "<div>\n<style scoped>\n    .dataframe tbody tr th:only-of-type {\n        vertical-align: middle;\n    }\n\n    .dataframe tbody tr th {\n        vertical-align: top;\n    }\n\n    .dataframe thead th {\n        text-align: right;\n    }\n</style>\n<table border=\"1\" class=\"dataframe\">\n  <thead>\n    <tr style=\"text-align: right;\">\n      <th></th>\n      <th>doc_id</th>\n      <th>title</th>\n      <th>condition</th>\n      <th>summary</th>\n      <th>detailed_description</th>\n      <th>eligibility</th>\n    </tr>\n  </thead>\n  <tbody>\n    <tr>\n      <th>31890</th>\n      <td>NCT00365846</td>\n      <td>\"A Pilot Study to Determine the Safety of Camp...</td>\n      <td></td>\n      <td>\\n    \\n      The purpose of the study is to s...</td>\n      <td>\\n    \\n      Twenty nine primary recipients o...</td>\n      <td>\\n      \\n        Inclusion Criteria:\\r\\n\\r\\n ...</td>\n    </tr>\n    <tr>\n      <th>43434</th>\n      <td>NCT00519246</td>\n      <td>Comparison of Pain Therapeutic Effects After B...</td>\n      <td></td>\n      <td>\\n    \\n      With the incremental trend of be...</td>\n      <td></td>\n      <td>\\n      \\n        Inclusion Criteria:\\r\\n\\r\\n ...</td>\n    </tr>\n    <tr>\n      <th>71441</th>\n      <td>NCT00889902</td>\n      <td>Molecular Markers in Cervical Cancer Screening...</td>\n      <td></td>\n      <td>\\n    \\n      The purpose of this study is to:...</td>\n      <td>\\n    \\n      1. To carry out large-scale pros...</td>\n      <td>\\n      \\n        Inclusion Criteria:\\r\\n\\r\\n ...</td>\n    </tr>\n    <tr>\n      <th>235771</th>\n      <td>NCT03041428</td>\n      <td>Ultra Protective Ventilation During Venoarteri...</td>\n      <td></td>\n      <td>\\n    \\n      Mechanical ventilation, in spite...</td>\n      <td>\\n    \\n      Mechanical ventilation is the co...</td>\n      <td>\\n      \\n        Inclusion Criteria:\\r\\n\\r\\n ...</td>\n    </tr>\n    <tr>\n      <th>68645</th>\n      <td>NCT00853021</td>\n      <td>Bevacizumab and Aldesleukin in Treating Patien...</td>\n      <td></td>\n      <td>\\n    \\n      RATIONALE: Monoclonal antibodies...</td>\n      <td>\\n    \\n      OBJECTIVES:\\r\\n\\r\\n      Primary...</td>\n      <td>\\n      \\n        DISEASE CHARACTERISTICS:\\r\\n...</td>\n    </tr>\n    <tr>\n      <th>5980</th>\n      <td>NCT00013299</td>\n      <td>Clinical Trials of Footwear in Patients With D...</td>\n      <td></td>\n      <td>\\n    \\n      This is a randomized clinical tr...</td>\n      <td>\\n    \\n      This is a randomized clinical tr...</td>\n      <td>\\n      \\n        Diabetics with foot ulcerati...</td>\n    </tr>\n    <tr>\n      <th>327466</th>\n      <td>NCT04235855</td>\n      <td>EUS Guided Liver Biopsy - Will it Give Better ...</td>\n      <td></td>\n      <td>\\n    \\n      Liver biopsy would be done by En...</td>\n      <td>\\n    \\n      In this study, we aim to evaluat...</td>\n      <td>\\n      \\n        Inclusion Criteria:\\r\\n\\r\\n ...</td>\n    </tr>\n    <tr>\n      <th>31853</th>\n      <td>NCT00365352</td>\n      <td>XP13512 vs. Placebo in Patients With Restless ...</td>\n      <td></td>\n      <td>\\n    \\n      The primary objective of this tr...</td>\n      <td>\\n    \\n      This was a 12-week, multicenter,...</td>\n      <td>\\n      \\n        Inclusion Criteria:\\r\\n\\r\\n ...</td>\n    </tr>\n    <tr>\n      <th>123010</th>\n      <td>NCT01567969</td>\n      <td>Family Health and Development Project</td>\n      <td></td>\n      <td>\\n    \\n      The Family Health and Developmen...</td>\n      <td>\\n    \\n      The Family Health and Developmen...</td>\n      <td>\\n      \\n        Inclusion Criteria:\\r\\n\\r\\n ...</td>\n    </tr>\n    <tr>\n      <th>56961</th>\n      <td>NCT00698711</td>\n      <td>Vaccination of Prostate Cancer Patients With M...</td>\n      <td></td>\n      <td>\\n    \\n      The purpose of this research is ...</td>\n      <td></td>\n      <td>\\n      \\n        Inclusion Criteria:\\r\\n\\r\\n ...</td>\n    </tr>\n  </tbody>\n</table>\n</div>"
     },
     "execution_count": 14,
     "metadata": {},
     "output_type": "execute_result"
    }
   ],
   "source": [
    "df_docs.sample(10)"
   ],
   "metadata": {
    "collapsed": false,
    "ExecuteTime": {
     "end_time": "2024-05-11T20:45:42.079630Z",
     "start_time": "2024-05-11T20:45:41.981092Z"
    }
   },
   "id": "9630f17bc853d98"
  },
  {
   "cell_type": "code",
   "execution_count": 15,
   "outputs": [
    {
     "data": {
      "text/plain": "(375580, 6)"
     },
     "execution_count": 15,
     "metadata": {},
     "output_type": "execute_result"
    }
   ],
   "source": [
    "df_docs.shape"
   ],
   "metadata": {
    "collapsed": false,
    "ExecuteTime": {
     "end_time": "2024-05-11T20:45:45.135773Z",
     "start_time": "2024-05-11T20:45:45.097624Z"
    }
   },
   "id": "4ab0d8a6373434c5"
  },
  {
   "cell_type": "code",
   "execution_count": 16,
   "outputs": [
    {
     "name": "stdout",
     "output_type": "stream",
     "text": [
      "Column contains only empty strings: True\n"
     ]
    }
   ],
   "source": [
    "only_empty_strings = df_docs['condition'].apply(lambda x: x == \"\").all()\n",
    "print(\"Column contains only empty strings:\", only_empty_strings)"
   ],
   "metadata": {
    "collapsed": false,
    "ExecuteTime": {
     "end_time": "2024-05-11T20:45:47.658464Z",
     "start_time": "2024-05-11T20:45:47.598733Z"
    }
   },
   "id": "34368fec5be555ef"
  },
  {
   "cell_type": "code",
   "execution_count": 17,
   "outputs": [],
   "source": [
    "df_docs = df_docs.drop(['condition', 'detailed_description'], axis=1)"
   ],
   "metadata": {
    "collapsed": false,
    "ExecuteTime": {
     "end_time": "2024-05-11T20:45:55.847737Z",
     "start_time": "2024-05-11T20:45:50.761668Z"
    }
   },
   "id": "731f4890d85b725d"
  },
  {
   "cell_type": "code",
   "execution_count": 18,
   "outputs": [
    {
     "data": {
      "text/plain": "             doc_id                                              title  \\\n196983  NCT02535299  Par-4 and Telomere-telomerase System in Type 2...   \n257687  NCT03326921  HA-1 T TCR T Cell Immunotherapy for the Treatm...   \n50773   NCT00617175  Avoid DeliVering TherApies for Non-sustained A...   \n7369    NCT00033657  Radiation Therapy and Chemotherapy Before and ...   \n340280  NCT04402814  IgG/IgM Antibody Test in Patients Who Have Tes...   \n97543   NCT01234064  Graduated Compression Stockings (GCS) Pilot Su...   \n35287   NCT00410930  Efficacy and Safety of Subcutaneous Immunother...   \n205408  NCT02645383  PASCAL Laser Platform Produces Less Pain Respo...   \n243762  NCT03145532  Transcranial Direct-Current Stimulation (tCDS)...   \n346348  NCT04481815  Rituximab Plus Methotrexate With or Without Le...   \n\n                                                  summary  \\\n196983  \\n    \\n      Objectives: To investigate the t...   \n257687  \\n    \\n      This phase I trial studies the s...   \n50773   \\n    \\n      To demonstrate a reduction in th...   \n7369    \\n    \\n      RATIONALE: Radiation therapy use...   \n340280  \\n    \\n      The purpose of this study is to ...   \n97543   \\n    \\n      This is a pilot substudy to the ...   \n35287   \\n    \\n      To compare versus placebo the ef...   \n205408  \\n    \\n      The aim of this study is to comp...   \n243762  \\n    \\n      Hemiplegia occurs when the funct...   \n346348  \\n    \\n      It is a multicenter, open-Label,...   \n\n                                              eligibility  \n196983  \\n      \\n        Inclusion Criteria:\\r\\n\\r\\n ...  \n257687  \\n      \\n        Inclusion Criteria:\\r\\n\\r\\n ...  \n50773   \\n      \\n        Inclusion Criteria:\\r\\n\\r\\n ...  \n7369    \\n      \\n        Inclusion Criteria:\\r\\n\\r\\n ...  \n340280  \\n      \\n        Inclusion Criteria:\\r\\n\\r\\n ...  \n97543   \\n      \\n        Inclusion Criteria:\\r\\n\\r\\n ...  \n35287   \\n      \\n        Inclusion Criteria:\\r\\n\\r\\n ...  \n205408  \\n      \\n        Inclusion Criteria:\\r\\n\\r\\n ...  \n243762  \\n      \\n        Inclusion Criteria:\\r\\n\\r\\n ...  \n346348  \\n      \\n        Inclusion Criteria:\\r\\n\\r\\n ...  ",
      "text/html": "<div>\n<style scoped>\n    .dataframe tbody tr th:only-of-type {\n        vertical-align: middle;\n    }\n\n    .dataframe tbody tr th {\n        vertical-align: top;\n    }\n\n    .dataframe thead th {\n        text-align: right;\n    }\n</style>\n<table border=\"1\" class=\"dataframe\">\n  <thead>\n    <tr style=\"text-align: right;\">\n      <th></th>\n      <th>doc_id</th>\n      <th>title</th>\n      <th>summary</th>\n      <th>eligibility</th>\n    </tr>\n  </thead>\n  <tbody>\n    <tr>\n      <th>196983</th>\n      <td>NCT02535299</td>\n      <td>Par-4 and Telomere-telomerase System in Type 2...</td>\n      <td>\\n    \\n      Objectives: To investigate the t...</td>\n      <td>\\n      \\n        Inclusion Criteria:\\r\\n\\r\\n ...</td>\n    </tr>\n    <tr>\n      <th>257687</th>\n      <td>NCT03326921</td>\n      <td>HA-1 T TCR T Cell Immunotherapy for the Treatm...</td>\n      <td>\\n    \\n      This phase I trial studies the s...</td>\n      <td>\\n      \\n        Inclusion Criteria:\\r\\n\\r\\n ...</td>\n    </tr>\n    <tr>\n      <th>50773</th>\n      <td>NCT00617175</td>\n      <td>Avoid DeliVering TherApies for Non-sustained A...</td>\n      <td>\\n    \\n      To demonstrate a reduction in th...</td>\n      <td>\\n      \\n        Inclusion Criteria:\\r\\n\\r\\n ...</td>\n    </tr>\n    <tr>\n      <th>7369</th>\n      <td>NCT00033657</td>\n      <td>Radiation Therapy and Chemotherapy Before and ...</td>\n      <td>\\n    \\n      RATIONALE: Radiation therapy use...</td>\n      <td>\\n      \\n        Inclusion Criteria:\\r\\n\\r\\n ...</td>\n    </tr>\n    <tr>\n      <th>340280</th>\n      <td>NCT04402814</td>\n      <td>IgG/IgM Antibody Test in Patients Who Have Tes...</td>\n      <td>\\n    \\n      The purpose of this study is to ...</td>\n      <td>\\n      \\n        Inclusion Criteria:\\r\\n\\r\\n ...</td>\n    </tr>\n    <tr>\n      <th>97543</th>\n      <td>NCT01234064</td>\n      <td>Graduated Compression Stockings (GCS) Pilot Su...</td>\n      <td>\\n    \\n      This is a pilot substudy to the ...</td>\n      <td>\\n      \\n        Inclusion Criteria:\\r\\n\\r\\n ...</td>\n    </tr>\n    <tr>\n      <th>35287</th>\n      <td>NCT00410930</td>\n      <td>Efficacy and Safety of Subcutaneous Immunother...</td>\n      <td>\\n    \\n      To compare versus placebo the ef...</td>\n      <td>\\n      \\n        Inclusion Criteria:\\r\\n\\r\\n ...</td>\n    </tr>\n    <tr>\n      <th>205408</th>\n      <td>NCT02645383</td>\n      <td>PASCAL Laser Platform Produces Less Pain Respo...</td>\n      <td>\\n    \\n      The aim of this study is to comp...</td>\n      <td>\\n      \\n        Inclusion Criteria:\\r\\n\\r\\n ...</td>\n    </tr>\n    <tr>\n      <th>243762</th>\n      <td>NCT03145532</td>\n      <td>Transcranial Direct-Current Stimulation (tCDS)...</td>\n      <td>\\n    \\n      Hemiplegia occurs when the funct...</td>\n      <td>\\n      \\n        Inclusion Criteria:\\r\\n\\r\\n ...</td>\n    </tr>\n    <tr>\n      <th>346348</th>\n      <td>NCT04481815</td>\n      <td>Rituximab Plus Methotrexate With or Without Le...</td>\n      <td>\\n    \\n      It is a multicenter, open-Label,...</td>\n      <td>\\n      \\n        Inclusion Criteria:\\r\\n\\r\\n ...</td>\n    </tr>\n  </tbody>\n</table>\n</div>"
     },
     "execution_count": 18,
     "metadata": {},
     "output_type": "execute_result"
    }
   ],
   "source": [
    "df_docs.sample(10)"
   ],
   "metadata": {
    "collapsed": false,
    "ExecuteTime": {
     "end_time": "2024-05-11T20:45:56.665104Z",
     "start_time": "2024-05-11T20:45:56.580741Z"
    }
   },
   "id": "ca6f57a3d90f0c8b"
  },
  {
   "cell_type": "code",
   "execution_count": 19,
   "outputs": [
    {
     "data": {
      "text/plain": "(375580, 4)"
     },
     "execution_count": 19,
     "metadata": {},
     "output_type": "execute_result"
    }
   ],
   "source": [
    "df_docs.shape"
   ],
   "metadata": {
    "collapsed": false,
    "ExecuteTime": {
     "end_time": "2024-05-11T20:45:59.682612Z",
     "start_time": "2024-05-11T20:45:59.564736Z"
    }
   },
   "id": "bbd6b4b7d44f7c56"
  },
  {
   "cell_type": "markdown",
   "source": [
    "#### QRELS"
   ],
   "metadata": {
    "collapsed": false
   },
   "id": "dcf5a907cf20028c"
  },
  {
   "cell_type": "code",
   "execution_count": 20,
   "outputs": [],
   "source": [
    "df_qrels = pd.DataFrame(qrels)"
   ],
   "metadata": {
    "collapsed": false,
    "ExecuteTime": {
     "end_time": "2024-05-11T20:46:06.905483Z",
     "start_time": "2024-05-11T20:46:06.210558Z"
    }
   },
   "id": "a925fdced52d0128"
  },
  {
   "cell_type": "code",
   "execution_count": 21,
   "outputs": [
    {
     "data": {
      "text/plain": "      query_id       doc_id  relevance iteration\n20607       43  NCT01703494          2         0\n13631       29  NCT01653899          2         0\n26732       57  NCT02146521          2         0\n22437       47  NCT01220336          1         0\n10379       22  NCT04246619          0         0\n21438       45  NCT00590200          0         0\n26419       56  NCT02629549          0         0\n18946       40  NCT01026584          0         0\n5718        13  NCT01611025          2         0\n2097         5  NCT02527759          0         0",
      "text/html": "<div>\n<style scoped>\n    .dataframe tbody tr th:only-of-type {\n        vertical-align: middle;\n    }\n\n    .dataframe tbody tr th {\n        vertical-align: top;\n    }\n\n    .dataframe thead th {\n        text-align: right;\n    }\n</style>\n<table border=\"1\" class=\"dataframe\">\n  <thead>\n    <tr style=\"text-align: right;\">\n      <th></th>\n      <th>query_id</th>\n      <th>doc_id</th>\n      <th>relevance</th>\n      <th>iteration</th>\n    </tr>\n  </thead>\n  <tbody>\n    <tr>\n      <th>20607</th>\n      <td>43</td>\n      <td>NCT01703494</td>\n      <td>2</td>\n      <td>0</td>\n    </tr>\n    <tr>\n      <th>13631</th>\n      <td>29</td>\n      <td>NCT01653899</td>\n      <td>2</td>\n      <td>0</td>\n    </tr>\n    <tr>\n      <th>26732</th>\n      <td>57</td>\n      <td>NCT02146521</td>\n      <td>2</td>\n      <td>0</td>\n    </tr>\n    <tr>\n      <th>22437</th>\n      <td>47</td>\n      <td>NCT01220336</td>\n      <td>1</td>\n      <td>0</td>\n    </tr>\n    <tr>\n      <th>10379</th>\n      <td>22</td>\n      <td>NCT04246619</td>\n      <td>0</td>\n      <td>0</td>\n    </tr>\n    <tr>\n      <th>21438</th>\n      <td>45</td>\n      <td>NCT00590200</td>\n      <td>0</td>\n      <td>0</td>\n    </tr>\n    <tr>\n      <th>26419</th>\n      <td>56</td>\n      <td>NCT02629549</td>\n      <td>0</td>\n      <td>0</td>\n    </tr>\n    <tr>\n      <th>18946</th>\n      <td>40</td>\n      <td>NCT01026584</td>\n      <td>0</td>\n      <td>0</td>\n    </tr>\n    <tr>\n      <th>5718</th>\n      <td>13</td>\n      <td>NCT01611025</td>\n      <td>2</td>\n      <td>0</td>\n    </tr>\n    <tr>\n      <th>2097</th>\n      <td>5</td>\n      <td>NCT02527759</td>\n      <td>0</td>\n      <td>0</td>\n    </tr>\n  </tbody>\n</table>\n</div>"
     },
     "execution_count": 21,
     "metadata": {},
     "output_type": "execute_result"
    }
   ],
   "source": [
    "df_qrels.sample(10)"
   ],
   "metadata": {
    "collapsed": false,
    "ExecuteTime": {
     "end_time": "2024-05-11T20:46:07.899630Z",
     "start_time": "2024-05-11T20:46:07.870412Z"
    }
   },
   "id": "591d13fd722bf6e7"
  },
  {
   "cell_type": "code",
   "execution_count": 22,
   "outputs": [
    {
     "data": {
      "text/plain": "(35832, 4)"
     },
     "execution_count": 22,
     "metadata": {},
     "output_type": "execute_result"
    }
   ],
   "source": [
    "df_qrels.shape"
   ],
   "metadata": {
    "collapsed": false,
    "ExecuteTime": {
     "end_time": "2024-05-11T20:46:10.331376Z",
     "start_time": "2024-05-11T20:46:10.275604Z"
    }
   },
   "id": "46ba167c9447eb03"
  },
  {
   "cell_type": "code",
   "execution_count": 23,
   "outputs": [],
   "source": [
    "df_qrels = df_qrels.drop('iteration', axis=1)"
   ],
   "metadata": {
    "collapsed": false,
    "ExecuteTime": {
     "end_time": "2024-05-11T20:46:13.168694Z",
     "start_time": "2024-05-11T20:46:13.149203Z"
    }
   },
   "id": "2e562d6e15f25b27"
  },
  {
   "cell_type": "code",
   "execution_count": 24,
   "outputs": [
    {
     "data": {
      "text/plain": "      query_id       doc_id  relevance\n18527       39  NCT01800162          0\n6714        15  NCT01465516          0\n2896         7  NCT00164060          0\n17804       37  NCT03108573          2\n10413       22  NCT04618666          2\n2515         6  NCT01734525          1\n28603       61  NCT01689610          2\n33548       71  NCT01335490          0\n10215       22  NCT02512146          0\n558          2  NCT02167906          0",
      "text/html": "<div>\n<style scoped>\n    .dataframe tbody tr th:only-of-type {\n        vertical-align: middle;\n    }\n\n    .dataframe tbody tr th {\n        vertical-align: top;\n    }\n\n    .dataframe thead th {\n        text-align: right;\n    }\n</style>\n<table border=\"1\" class=\"dataframe\">\n  <thead>\n    <tr style=\"text-align: right;\">\n      <th></th>\n      <th>query_id</th>\n      <th>doc_id</th>\n      <th>relevance</th>\n    </tr>\n  </thead>\n  <tbody>\n    <tr>\n      <th>18527</th>\n      <td>39</td>\n      <td>NCT01800162</td>\n      <td>0</td>\n    </tr>\n    <tr>\n      <th>6714</th>\n      <td>15</td>\n      <td>NCT01465516</td>\n      <td>0</td>\n    </tr>\n    <tr>\n      <th>2896</th>\n      <td>7</td>\n      <td>NCT00164060</td>\n      <td>0</td>\n    </tr>\n    <tr>\n      <th>17804</th>\n      <td>37</td>\n      <td>NCT03108573</td>\n      <td>2</td>\n    </tr>\n    <tr>\n      <th>10413</th>\n      <td>22</td>\n      <td>NCT04618666</td>\n      <td>2</td>\n    </tr>\n    <tr>\n      <th>2515</th>\n      <td>6</td>\n      <td>NCT01734525</td>\n      <td>1</td>\n    </tr>\n    <tr>\n      <th>28603</th>\n      <td>61</td>\n      <td>NCT01689610</td>\n      <td>2</td>\n    </tr>\n    <tr>\n      <th>33548</th>\n      <td>71</td>\n      <td>NCT01335490</td>\n      <td>0</td>\n    </tr>\n    <tr>\n      <th>10215</th>\n      <td>22</td>\n      <td>NCT02512146</td>\n      <td>0</td>\n    </tr>\n    <tr>\n      <th>558</th>\n      <td>2</td>\n      <td>NCT02167906</td>\n      <td>0</td>\n    </tr>\n  </tbody>\n</table>\n</div>"
     },
     "execution_count": 24,
     "metadata": {},
     "output_type": "execute_result"
    }
   ],
   "source": [
    "df_qrels.sample(10)"
   ],
   "metadata": {
    "collapsed": false,
    "ExecuteTime": {
     "end_time": "2024-05-11T20:46:14.890016Z",
     "start_time": "2024-05-11T20:46:14.846978Z"
    }
   },
   "id": "535349f403988be0"
  },
  {
   "cell_type": "code",
   "execution_count": 25,
   "outputs": [
    {
     "data": {
      "text/plain": "(35832, 3)"
     },
     "execution_count": 25,
     "metadata": {},
     "output_type": "execute_result"
    }
   ],
   "source": [
    "df_qrels.shape"
   ],
   "metadata": {
    "collapsed": false,
    "ExecuteTime": {
     "end_time": "2024-05-11T20:46:17.293177Z",
     "start_time": "2024-05-11T20:46:17.214046Z"
    }
   },
   "id": "dcce86ecf2607903"
  },
  {
   "cell_type": "markdown",
   "source": [
    "### Об'єднання датасетів"
   ],
   "metadata": {
    "collapsed": false
   },
   "id": "a784e244b1e59452"
  },
  {
   "cell_type": "code",
   "execution_count": 26,
   "outputs": [],
   "source": [
    "df_qrels_docs_merged = pd.merge(df_qrels, df_docs, on='doc_id')"
   ],
   "metadata": {
    "collapsed": false,
    "ExecuteTime": {
     "end_time": "2024-05-11T20:46:22.775427Z",
     "start_time": "2024-05-11T20:46:20.924941Z"
    }
   },
   "id": "f6de14bdaa3a0e34"
  },
  {
   "cell_type": "code",
   "execution_count": 27,
   "outputs": [
    {
     "data": {
      "text/plain": "      query_id       doc_id  relevance  \\\n35233       74  NCT04250792          0   \n19066       40  NCT02418949          0   \n14997       32  NCT02205541          2   \n30637       65  NCT01727817          1   \n25310       53  NCT03374319          0   \n23179       48  NCT03812016          0   \n22527       47  NCT01975194          2   \n17169       36  NCT02610660          0   \n24436       51  NCT04764344          0   \n5375        12  NCT02371863          0   \n\n                                                   title  \\\n35233       Efficacy of Low Dose Naltrexone in Psoriasis   \n19066           Altering Activation Patterns Post-stroke   \n14997  Eculizumab in Shiga-toxin Related Hemolytic an...   \n30637  Early Feasibility Study 2 of Outpatient Contro...   \n25310  Somatotopic Configuration of Distal Residual L...   \n23179  A Real-time Magnetic Device Prototype for Temp...   \n22527  Rosuvastatin in African Americans With Cerebro...   \n17169  Tracking Outcomes and Practice in Pediatric Pu...   \n24436  Haloperidol for the Treatment of Nausea and Vo...   \n5375   Normal Values in Stress Echocardiographic Para...   \n\n                                                 summary  \\\n35233  \\n    \\n      Objective of the study is to det...   \n19066  \\n    \\n      This study evaluates a new rehab...   \n14997  \\n    \\n      The investigators aim to perform...   \n30637  \\n    \\n      An unblinded, randomized, cross-...   \n25310  \\n    \\n      The hypothesis of this research ...   \n23179  \\n    \\n      To develop a real-time magnetic ...   \n22527  \\n    \\n      This study will assess the rate ...   \n17169  \\n    \\n      The TOPP-2 registry is an intern...   \n24436  \\n    \\n      Single center, double-blind, ran...   \n5375   \\n    \\n      Surgical treatment is the only a...   \n\n                                             eligibility  \n35233  \\n      \\n        Inclusion Criteria:\\r\\n\\r\\n ...  \n19066  \\n      \\n        Inclusion Criteria:\\r\\n\\r\\n ...  \n14997  \\n      \\n        Inclusion Criteria:\\r\\n\\r\\n ...  \n30637  \\n      \\n        Inclusion Criteria:\\r\\n\\r\\n ...  \n25310  \\n      \\n        Inclusion Criteria:\\r\\n\\r\\n ...  \n23179  \\n      \\n        Inclusion Criteria:\\r\\n\\r\\n ...  \n22527  \\n      \\n        Inclusion Criteria:\\r\\n\\r\\n ...  \n17169  \\n      \\n        Inclusion Criteria:\\r\\n\\r\\n ...  \n24436  \\n      \\n        Inclusion Criteria:\\r\\n\\r\\n ...  \n5375   \\n      \\n        Inclusion Criteria:\\r\\n\\r\\n ...  ",
      "text/html": "<div>\n<style scoped>\n    .dataframe tbody tr th:only-of-type {\n        vertical-align: middle;\n    }\n\n    .dataframe tbody tr th {\n        vertical-align: top;\n    }\n\n    .dataframe thead th {\n        text-align: right;\n    }\n</style>\n<table border=\"1\" class=\"dataframe\">\n  <thead>\n    <tr style=\"text-align: right;\">\n      <th></th>\n      <th>query_id</th>\n      <th>doc_id</th>\n      <th>relevance</th>\n      <th>title</th>\n      <th>summary</th>\n      <th>eligibility</th>\n    </tr>\n  </thead>\n  <tbody>\n    <tr>\n      <th>35233</th>\n      <td>74</td>\n      <td>NCT04250792</td>\n      <td>0</td>\n      <td>Efficacy of Low Dose Naltrexone in Psoriasis</td>\n      <td>\\n    \\n      Objective of the study is to det...</td>\n      <td>\\n      \\n        Inclusion Criteria:\\r\\n\\r\\n ...</td>\n    </tr>\n    <tr>\n      <th>19066</th>\n      <td>40</td>\n      <td>NCT02418949</td>\n      <td>0</td>\n      <td>Altering Activation Patterns Post-stroke</td>\n      <td>\\n    \\n      This study evaluates a new rehab...</td>\n      <td>\\n      \\n        Inclusion Criteria:\\r\\n\\r\\n ...</td>\n    </tr>\n    <tr>\n      <th>14997</th>\n      <td>32</td>\n      <td>NCT02205541</td>\n      <td>2</td>\n      <td>Eculizumab in Shiga-toxin Related Hemolytic an...</td>\n      <td>\\n    \\n      The investigators aim to perform...</td>\n      <td>\\n      \\n        Inclusion Criteria:\\r\\n\\r\\n ...</td>\n    </tr>\n    <tr>\n      <th>30637</th>\n      <td>65</td>\n      <td>NCT01727817</td>\n      <td>1</td>\n      <td>Early Feasibility Study 2 of Outpatient Contro...</td>\n      <td>\\n    \\n      An unblinded, randomized, cross-...</td>\n      <td>\\n      \\n        Inclusion Criteria:\\r\\n\\r\\n ...</td>\n    </tr>\n    <tr>\n      <th>25310</th>\n      <td>53</td>\n      <td>NCT03374319</td>\n      <td>0</td>\n      <td>Somatotopic Configuration of Distal Residual L...</td>\n      <td>\\n    \\n      The hypothesis of this research ...</td>\n      <td>\\n      \\n        Inclusion Criteria:\\r\\n\\r\\n ...</td>\n    </tr>\n    <tr>\n      <th>23179</th>\n      <td>48</td>\n      <td>NCT03812016</td>\n      <td>0</td>\n      <td>A Real-time Magnetic Device Prototype for Temp...</td>\n      <td>\\n    \\n      To develop a real-time magnetic ...</td>\n      <td>\\n      \\n        Inclusion Criteria:\\r\\n\\r\\n ...</td>\n    </tr>\n    <tr>\n      <th>22527</th>\n      <td>47</td>\n      <td>NCT01975194</td>\n      <td>2</td>\n      <td>Rosuvastatin in African Americans With Cerebro...</td>\n      <td>\\n    \\n      This study will assess the rate ...</td>\n      <td>\\n      \\n        Inclusion Criteria:\\r\\n\\r\\n ...</td>\n    </tr>\n    <tr>\n      <th>17169</th>\n      <td>36</td>\n      <td>NCT02610660</td>\n      <td>0</td>\n      <td>Tracking Outcomes and Practice in Pediatric Pu...</td>\n      <td>\\n    \\n      The TOPP-2 registry is an intern...</td>\n      <td>\\n      \\n        Inclusion Criteria:\\r\\n\\r\\n ...</td>\n    </tr>\n    <tr>\n      <th>24436</th>\n      <td>51</td>\n      <td>NCT04764344</td>\n      <td>0</td>\n      <td>Haloperidol for the Treatment of Nausea and Vo...</td>\n      <td>\\n    \\n      Single center, double-blind, ran...</td>\n      <td>\\n      \\n        Inclusion Criteria:\\r\\n\\r\\n ...</td>\n    </tr>\n    <tr>\n      <th>5375</th>\n      <td>12</td>\n      <td>NCT02371863</td>\n      <td>0</td>\n      <td>Normal Values in Stress Echocardiographic Para...</td>\n      <td>\\n    \\n      Surgical treatment is the only a...</td>\n      <td>\\n      \\n        Inclusion Criteria:\\r\\n\\r\\n ...</td>\n    </tr>\n  </tbody>\n</table>\n</div>"
     },
     "execution_count": 27,
     "metadata": {},
     "output_type": "execute_result"
    }
   ],
   "source": [
    "df_qrels_docs_merged.sample(10)"
   ],
   "metadata": {
    "collapsed": false,
    "ExecuteTime": {
     "end_time": "2024-05-11T20:46:23.920016Z",
     "start_time": "2024-05-11T20:46:23.806252Z"
    }
   },
   "id": "2498f98ef424e817"
  },
  {
   "cell_type": "code",
   "execution_count": 28,
   "outputs": [],
   "source": [
    "df_final = pd.merge(df_qrels_docs_merged, df_queries, on='query_id')"
   ],
   "metadata": {
    "collapsed": false,
    "ExecuteTime": {
     "end_time": "2024-05-11T20:46:26.730696Z",
     "start_time": "2024-05-11T20:46:26.521108Z"
    }
   },
   "id": "63594965e7648833"
  },
  {
   "cell_type": "code",
   "execution_count": 29,
   "outputs": [
    {
     "data": {
      "text/plain": "      query_id       doc_id  relevance  \\\n3385         8  NCT00107614          0   \n34062       72  NCT00618813          0   \n29607       63  NCT02473393          0   \n26353       56  NCT01568359          2   \n3201         7  NCT03420144          0   \n25634       54  NCT02020889          0   \n31163       66  NCT01374659          0   \n3737         8  NCT03336203          0   \n4705        10  NCT03475589          0   \n16985       36  NCT01040663          0   \n\n                                                   title  \\\n3385   DT PACE, Tandem Autologous Transplant, Mainten...   \n34062  Two Regimens of Combination Chemotherapy in Tr...   \n29607  A Clinical Trial to Assess Three Different Dos...   \n26353  Calcium Homeostasis in Acromegaly: Effect of S...   \n3201           Growth Hormone Therapy in Liver Cirrhosis   \n25634  A Study to Investigate Mepolizumab in the Trea...   \n31163  Diagnostic Utility of [18F]-FDG-PET/CT and [12...   \n3737   The Impact of Urate-lowering Therapy on Kidney...   \n4705   Study on the Adverse Drug Reactions (ADRs) of ...   \n16985  Isocaloric Dietary Interventions for Insulin R...   \n\n                                                 summary  \\\n3385   \\n    \\n      The purpose of this study is to ...   \n34062  \\n    \\n      This clinical trial is studying ...   \n29607  \\n    \\n      To assess safety, efficacy and p...   \n26353  \\n    \\n      The purpose of the study is to e...   \n3201   \\n    \\n      Liver cirrhosis (LC) is a leadin...   \n25634  \\n    \\n      The purpose of this randomized, ...   \n31163  \\n    \\n      Several studies have indicated t...   \n3737   \\n    \\n      This trial aims to investigate t...   \n4705   \\n    \\n      The tolerability of apatinib, an...   \n16985  \\n    \\n      In recent decades, the prevalenc...   \n\n                                             eligibility  \\\n3385   \\n      \\n        Inclusion Criteria:\\r\\n\\r\\n ...   \n34062  \\n      \\n        Inclusion Criteria:\\r\\n\\r\\n ...   \n29607  \\n      \\n        Inclusion Criteria:\\r\\n\\r\\n ...   \n26353  \\n      \\n        Inclusion Criteria:\\r\\n\\r\\n ...   \n3201   \\n      \\n        Inclusion Criteria:\\r\\n\\r\\n ...   \n25634  \\n      \\n        Inclusion Criteria:\\r\\n\\r\\n ...   \n31163  \\n      \\n        Inclusion Criteria:\\r\\n\\r\\n ...   \n3737   \\n      \\n        Inclusion Criteria:\\r\\n\\r\\n ...   \n4705   \\n      \\n        Inclusion Criteria:\\r\\n\\r\\n ...   \n16985  \\n      \\n        Inclusion Criteria:\\r\\n\\r\\n ...   \n\n                                                    text  \n3385   1. This is a 57-year-old gentleman with CLL an...  \n34062  1. The patient is a 16-year-old girl recently ...  \n29607  1. A 54-year-old obese woman admitted to the e...  \n26353  1. The patient is a 41-year-old man and a know...  \n3201   1. 60 yo M with Hep C cirrhosis, grade II esop...  \n25634  1. A 57-year-old man was admitted to the clini...  \n31163  1. A 16-year-old girl came to the clinic compl...  \n3737   1. This is a 57-year-old gentleman with CLL an...  \n4705   1. Pt is a 22yo F otherwise healthy with a 5 y...  \n16985  1. The patient is a 32-year-old obese woman wh...  ",
      "text/html": "<div>\n<style scoped>\n    .dataframe tbody tr th:only-of-type {\n        vertical-align: middle;\n    }\n\n    .dataframe tbody tr th {\n        vertical-align: top;\n    }\n\n    .dataframe thead th {\n        text-align: right;\n    }\n</style>\n<table border=\"1\" class=\"dataframe\">\n  <thead>\n    <tr style=\"text-align: right;\">\n      <th></th>\n      <th>query_id</th>\n      <th>doc_id</th>\n      <th>relevance</th>\n      <th>title</th>\n      <th>summary</th>\n      <th>eligibility</th>\n      <th>text</th>\n    </tr>\n  </thead>\n  <tbody>\n    <tr>\n      <th>3385</th>\n      <td>8</td>\n      <td>NCT00107614</td>\n      <td>0</td>\n      <td>DT PACE, Tandem Autologous Transplant, Mainten...</td>\n      <td>\\n    \\n      The purpose of this study is to ...</td>\n      <td>\\n      \\n        Inclusion Criteria:\\r\\n\\r\\n ...</td>\n      <td>1. This is a 57-year-old gentleman with CLL an...</td>\n    </tr>\n    <tr>\n      <th>34062</th>\n      <td>72</td>\n      <td>NCT00618813</td>\n      <td>0</td>\n      <td>Two Regimens of Combination Chemotherapy in Tr...</td>\n      <td>\\n    \\n      This clinical trial is studying ...</td>\n      <td>\\n      \\n        Inclusion Criteria:\\r\\n\\r\\n ...</td>\n      <td>1. The patient is a 16-year-old girl recently ...</td>\n    </tr>\n    <tr>\n      <th>29607</th>\n      <td>63</td>\n      <td>NCT02473393</td>\n      <td>0</td>\n      <td>A Clinical Trial to Assess Three Different Dos...</td>\n      <td>\\n    \\n      To assess safety, efficacy and p...</td>\n      <td>\\n      \\n        Inclusion Criteria:\\r\\n\\r\\n ...</td>\n      <td>1. A 54-year-old obese woman admitted to the e...</td>\n    </tr>\n    <tr>\n      <th>26353</th>\n      <td>56</td>\n      <td>NCT01568359</td>\n      <td>2</td>\n      <td>Calcium Homeostasis in Acromegaly: Effect of S...</td>\n      <td>\\n    \\n      The purpose of the study is to e...</td>\n      <td>\\n      \\n        Inclusion Criteria:\\r\\n\\r\\n ...</td>\n      <td>1. The patient is a 41-year-old man and a know...</td>\n    </tr>\n    <tr>\n      <th>3201</th>\n      <td>7</td>\n      <td>NCT03420144</td>\n      <td>0</td>\n      <td>Growth Hormone Therapy in Liver Cirrhosis</td>\n      <td>\\n    \\n      Liver cirrhosis (LC) is a leadin...</td>\n      <td>\\n      \\n        Inclusion Criteria:\\r\\n\\r\\n ...</td>\n      <td>1. 60 yo M with Hep C cirrhosis, grade II esop...</td>\n    </tr>\n    <tr>\n      <th>25634</th>\n      <td>54</td>\n      <td>NCT02020889</td>\n      <td>0</td>\n      <td>A Study to Investigate Mepolizumab in the Trea...</td>\n      <td>\\n    \\n      The purpose of this randomized, ...</td>\n      <td>\\n      \\n        Inclusion Criteria:\\r\\n\\r\\n ...</td>\n      <td>1. A 57-year-old man was admitted to the clini...</td>\n    </tr>\n    <tr>\n      <th>31163</th>\n      <td>66</td>\n      <td>NCT01374659</td>\n      <td>0</td>\n      <td>Diagnostic Utility of [18F]-FDG-PET/CT and [12...</td>\n      <td>\\n    \\n      Several studies have indicated t...</td>\n      <td>\\n      \\n        Inclusion Criteria:\\r\\n\\r\\n ...</td>\n      <td>1. A 16-year-old girl came to the clinic compl...</td>\n    </tr>\n    <tr>\n      <th>3737</th>\n      <td>8</td>\n      <td>NCT03336203</td>\n      <td>0</td>\n      <td>The Impact of Urate-lowering Therapy on Kidney...</td>\n      <td>\\n    \\n      This trial aims to investigate t...</td>\n      <td>\\n      \\n        Inclusion Criteria:\\r\\n\\r\\n ...</td>\n      <td>1. This is a 57-year-old gentleman with CLL an...</td>\n    </tr>\n    <tr>\n      <th>4705</th>\n      <td>10</td>\n      <td>NCT03475589</td>\n      <td>0</td>\n      <td>Study on the Adverse Drug Reactions (ADRs) of ...</td>\n      <td>\\n    \\n      The tolerability of apatinib, an...</td>\n      <td>\\n      \\n        Inclusion Criteria:\\r\\n\\r\\n ...</td>\n      <td>1. Pt is a 22yo F otherwise healthy with a 5 y...</td>\n    </tr>\n    <tr>\n      <th>16985</th>\n      <td>36</td>\n      <td>NCT01040663</td>\n      <td>0</td>\n      <td>Isocaloric Dietary Interventions for Insulin R...</td>\n      <td>\\n    \\n      In recent decades, the prevalenc...</td>\n      <td>\\n      \\n        Inclusion Criteria:\\r\\n\\r\\n ...</td>\n      <td>1. The patient is a 32-year-old obese woman wh...</td>\n    </tr>\n  </tbody>\n</table>\n</div>"
     },
     "execution_count": 29,
     "metadata": {},
     "output_type": "execute_result"
    }
   ],
   "source": [
    "df_final.sample(10)"
   ],
   "metadata": {
    "collapsed": false,
    "ExecuteTime": {
     "end_time": "2024-05-11T20:46:28.163367Z",
     "start_time": "2024-05-11T20:46:28.077768Z"
    }
   },
   "id": "5d78751d9100f214"
  },
  {
   "cell_type": "code",
   "execution_count": 30,
   "outputs": [],
   "source": [
    "df_final = df_final[['query_id', 'text', 'doc_id', 'title', 'summary', 'eligibility', 'relevance']]"
   ],
   "metadata": {
    "collapsed": false,
    "ExecuteTime": {
     "end_time": "2024-05-11T20:46:31.876887Z",
     "start_time": "2024-05-11T20:46:31.672461Z"
    }
   },
   "id": "e2b0978b5b1f0f12"
  },
  {
   "cell_type": "markdown",
   "source": [
    "### Відсутні значення/дублікати"
   ],
   "metadata": {
    "collapsed": false
   },
   "id": "f7d131a4f6485cb3"
  },
  {
   "cell_type": "code",
   "execution_count": 31,
   "outputs": [
    {
     "data": {
      "text/plain": "0"
     },
     "execution_count": 31,
     "metadata": {},
     "output_type": "execute_result"
    }
   ],
   "source": [
    "df_final.duplicated().sum()"
   ],
   "metadata": {
    "collapsed": false,
    "ExecuteTime": {
     "end_time": "2024-05-11T20:46:35.959962Z",
     "start_time": "2024-05-11T20:46:35.291683Z"
    }
   },
   "id": "837b84c2bf50f937"
  },
  {
   "cell_type": "code",
   "execution_count": 32,
   "outputs": [],
   "source": [
    "def missing_values_info(data):\n",
    "    res = pd.DataFrame((data.isnull().sum() / data.shape[0] * 100).sort_values(ascending=False))\n",
    "    res.columns = ['PERCENT_OF_MISSING_VALUES']\n",
    "    return res"
   ],
   "metadata": {
    "collapsed": false,
    "ExecuteTime": {
     "end_time": "2024-05-11T20:46:37.353172Z",
     "start_time": "2024-05-11T20:46:37.324786Z"
    }
   },
   "id": "4d8d1545c99b950f"
  },
  {
   "cell_type": "code",
   "execution_count": 33,
   "outputs": [
    {
     "data": {
      "text/plain": "             PERCENT_OF_MISSING_VALUES\nquery_id                           0.0\ntext                               0.0\ndoc_id                             0.0\ntitle                              0.0\nsummary                            0.0\neligibility                        0.0\nrelevance                          0.0",
      "text/html": "<div>\n<style scoped>\n    .dataframe tbody tr th:only-of-type {\n        vertical-align: middle;\n    }\n\n    .dataframe tbody tr th {\n        vertical-align: top;\n    }\n\n    .dataframe thead th {\n        text-align: right;\n    }\n</style>\n<table border=\"1\" class=\"dataframe\">\n  <thead>\n    <tr style=\"text-align: right;\">\n      <th></th>\n      <th>PERCENT_OF_MISSING_VALUES</th>\n    </tr>\n  </thead>\n  <tbody>\n    <tr>\n      <th>query_id</th>\n      <td>0.0</td>\n    </tr>\n    <tr>\n      <th>text</th>\n      <td>0.0</td>\n    </tr>\n    <tr>\n      <th>doc_id</th>\n      <td>0.0</td>\n    </tr>\n    <tr>\n      <th>title</th>\n      <td>0.0</td>\n    </tr>\n    <tr>\n      <th>summary</th>\n      <td>0.0</td>\n    </tr>\n    <tr>\n      <th>eligibility</th>\n      <td>0.0</td>\n    </tr>\n    <tr>\n      <th>relevance</th>\n      <td>0.0</td>\n    </tr>\n  </tbody>\n</table>\n</div>"
     },
     "execution_count": 33,
     "metadata": {},
     "output_type": "execute_result"
    }
   ],
   "source": [
    "missing_values_info(df_final)"
   ],
   "metadata": {
    "collapsed": false,
    "ExecuteTime": {
     "end_time": "2024-05-11T20:46:40.073013Z",
     "start_time": "2024-05-11T20:46:40.051942Z"
    }
   },
   "id": "3d644d5ea0507d95"
  },
  {
   "cell_type": "markdown",
   "source": [
    "### Обробка колонки eligibility"
   ],
   "metadata": {
    "collapsed": false
   },
   "id": "ab6984c7e8b0c921"
  },
  {
   "cell_type": "code",
   "execution_count": 34,
   "outputs": [],
   "source": [
    "import re"
   ],
   "metadata": {
    "collapsed": false,
    "ExecuteTime": {
     "end_time": "2024-05-11T20:46:44.219816Z",
     "start_time": "2024-05-11T20:46:44.188029Z"
    }
   },
   "id": "fde09297a34ca9db"
  },
  {
   "cell_type": "code",
   "execution_count": 35,
   "outputs": [],
   "source": [
    "def extract_pattern(text):\n",
    "    pattern = r'\\n\\s*\\n\\s*(\\w+)'\n",
    "    match = re.search(pattern, text)\n",
    "    if match:\n",
    "        return match.group(0)  \n",
    "    else:\n",
    "        return None"
   ],
   "metadata": {
    "collapsed": false,
    "ExecuteTime": {
     "end_time": "2024-05-11T20:46:45.216289Z",
     "start_time": "2024-05-11T20:46:45.192368Z"
    }
   },
   "id": "b86d5567f1f10603"
  },
  {
   "cell_type": "code",
   "execution_count": 36,
   "outputs": [],
   "source": [
    "eligibility_patterns = pd.DataFrame()\n",
    "eligibility_patterns['starting_string'] = df_final['eligibility'].apply(extract_pattern)"
   ],
   "metadata": {
    "collapsed": false,
    "ExecuteTime": {
     "end_time": "2024-05-11T20:46:47.549290Z",
     "start_time": "2024-05-11T20:46:47.347039Z"
    }
   },
   "id": "375556bb75edc95e"
  },
  {
   "cell_type": "code",
   "execution_count": 37,
   "outputs": [],
   "source": [
    "grouped_counts = df_final.groupby(eligibility_patterns['starting_string']).size().sort_values(ascending=False)"
   ],
   "metadata": {
    "collapsed": false,
    "ExecuteTime": {
     "end_time": "2024-05-11T20:46:49.863987Z",
     "start_time": "2024-05-11T20:46:49.798187Z"
    }
   },
   "id": "579011013ad406a8"
  },
  {
   "cell_type": "code",
   "execution_count": 38,
   "outputs": [
    {
     "data": {
      "text/plain": "starting_string\n\\n      \\n        Inclusion    32488\n\\n      \\n        DISEASE        502\n\\n      \\n        INCLUSION      253\n\\n      \\n        Key            232\n\\n\\r\\n               1           166\n\\n\\r\\n        EXCLUSION          131\n\\n      \\n        Patients        80\n\\n      \\n        1               76\n\\n      \\n        ENTRY           75\n\\n\\r\\n        Patients            62\ndtype: int64"
     },
     "execution_count": 38,
     "metadata": {},
     "output_type": "execute_result"
    }
   ],
   "source": [
    "grouped_counts.head(10)"
   ],
   "metadata": {
    "collapsed": false,
    "ExecuteTime": {
     "end_time": "2024-05-11T20:46:51.137759Z",
     "start_time": "2024-05-11T20:46:51.087759Z"
    }
   },
   "id": "d972f3d0d7d7e569"
  },
  {
   "cell_type": "code",
   "execution_count": 39,
   "outputs": [],
   "source": [
    "mask = df_final['eligibility'].str.startswith('\\n      \\n        Inclusion')\n",
    "df_final_filtered = df_final[mask]"
   ],
   "metadata": {
    "collapsed": false,
    "ExecuteTime": {
     "end_time": "2024-05-11T20:47:06.939407Z",
     "start_time": "2024-05-11T20:47:06.595786Z"
    }
   },
   "id": "5c6a937074c7646"
  },
  {
   "cell_type": "code",
   "execution_count": 40,
   "outputs": [
    {
     "data": {
      "text/plain": "      query_id                                               text  \\\n30310       64  1. The patient is a 55-year-old man diagnosed ...   \n9923        21  1. The patient is a 57-year-old man with abdom...   \n27737       59  1. The patient is a 15-year-old boy with asthm...   \n29224       62  1. A 46-year-old man presents with dizziness a...   \n24276       51  1. The patients is a 25-year-old G1 P1 pregnan...   \n24768       52  1. A 34 year old man comes to the clinic compl...   \n18485       39  1. A 3-day-old Asian female infant presents wi...   \n2965         7  1. 60 yo M with Hep C cirrhosis, grade II esop...   \n23412       49  1. A 12 year old girl came to the clinic with ...   \n767          2  1. 48 M with a h/o HTN hyperlipidemia, bicuspi...   \n\n            doc_id                                              title  \\\n30310  NCT03892681  Hepatocyte-specific Versus Extracellular Contr...   \n9923   NCT04196504  Prevalence of Echocardioghraphic and ECG Chang...   \n27737  NCT02825043          HFNC Effect on BCSS in Patients With COPD   \n29224  NCT02850081  Statin Neuroprotection and Carotid Endarterect...   \n24276  NCT03169621  Diagnosis of Chronic Endometritis in Endometri...   \n24768  NCT03029949  Acceptance and Commitment Therapy With Vestibu...   \n18485  NCT01244503  Prediction of Severity of Liver Disease by a 1...   \n2965   NCT00985010             Manganese in Women With Encephalopathy   \n23412  NCT01590095                           WASH Benefits Bangladesh   \n767    NCT04527367  Epidemiology and Long-term Outcome of Patients...   \n\n                                                 summary  \\\n30310  \\n    \\n      Adult patients with chronic hepa...   \n9923   \\n    \\n      Cardiovascular system involvemen...   \n27737  \\n    \\n      The primary objective of this st...   \n29224  \\n    \\n      The investigators hypothesize th...   \n24276  \\n    \\n      Chronic endometritis (CE) is a p...   \n24768  \\n    \\n      The purpose of this study is to ...   \n18485  \\n    \\n      The purpose of the study is to d...   \n2965   \\n    \\n      Objective:\\r\\n\\r\\n      Report m...   \n23412  \\n    \\n      Brief Summary:\\r\\n\\r\\n      The ...   \n767    \\n    \\n      Valvular heart diseases are sign...   \n\n                                             eligibility  relevance  \n30310  \\n      \\n        Inclusion Criteria:\\r\\n\\r\\n ...          0  \n9923   \\n      \\n        Inclusion Criteria:\\r\\n\\r\\n ...          2  \n27737  \\n      \\n        Inclusion Criteria:\\r\\n\\r\\n ...          0  \n29224  \\n      \\n        Inclusion Criteria:\\r\\n\\r\\n ...          1  \n24276  \\n      \\n        Inclusion Criteria:\\r\\n\\r\\n ...          0  \n24768  \\n      \\n        Inclusion Criteria:\\r\\n\\r\\n ...          0  \n18485  \\n      \\n        Inclusion Criteria:\\r\\n\\r\\n ...          0  \n2965   \\n      \\n        Inclusion Criteria:\\r\\n\\r\\n ...          0  \n23412  \\n      \\n        Inclusion Criteria:\\r\\n\\r\\n ...          0  \n767    \\n      \\n        Inclusion Criteria:\\r\\n\\r\\n ...          2  ",
      "text/html": "<div>\n<style scoped>\n    .dataframe tbody tr th:only-of-type {\n        vertical-align: middle;\n    }\n\n    .dataframe tbody tr th {\n        vertical-align: top;\n    }\n\n    .dataframe thead th {\n        text-align: right;\n    }\n</style>\n<table border=\"1\" class=\"dataframe\">\n  <thead>\n    <tr style=\"text-align: right;\">\n      <th></th>\n      <th>query_id</th>\n      <th>text</th>\n      <th>doc_id</th>\n      <th>title</th>\n      <th>summary</th>\n      <th>eligibility</th>\n      <th>relevance</th>\n    </tr>\n  </thead>\n  <tbody>\n    <tr>\n      <th>30310</th>\n      <td>64</td>\n      <td>1. The patient is a 55-year-old man diagnosed ...</td>\n      <td>NCT03892681</td>\n      <td>Hepatocyte-specific Versus Extracellular Contr...</td>\n      <td>\\n    \\n      Adult patients with chronic hepa...</td>\n      <td>\\n      \\n        Inclusion Criteria:\\r\\n\\r\\n ...</td>\n      <td>0</td>\n    </tr>\n    <tr>\n      <th>9923</th>\n      <td>21</td>\n      <td>1. The patient is a 57-year-old man with abdom...</td>\n      <td>NCT04196504</td>\n      <td>Prevalence of Echocardioghraphic and ECG Chang...</td>\n      <td>\\n    \\n      Cardiovascular system involvemen...</td>\n      <td>\\n      \\n        Inclusion Criteria:\\r\\n\\r\\n ...</td>\n      <td>2</td>\n    </tr>\n    <tr>\n      <th>27737</th>\n      <td>59</td>\n      <td>1. The patient is a 15-year-old boy with asthm...</td>\n      <td>NCT02825043</td>\n      <td>HFNC Effect on BCSS in Patients With COPD</td>\n      <td>\\n    \\n      The primary objective of this st...</td>\n      <td>\\n      \\n        Inclusion Criteria:\\r\\n\\r\\n ...</td>\n      <td>0</td>\n    </tr>\n    <tr>\n      <th>29224</th>\n      <td>62</td>\n      <td>1. A 46-year-old man presents with dizziness a...</td>\n      <td>NCT02850081</td>\n      <td>Statin Neuroprotection and Carotid Endarterect...</td>\n      <td>\\n    \\n      The investigators hypothesize th...</td>\n      <td>\\n      \\n        Inclusion Criteria:\\r\\n\\r\\n ...</td>\n      <td>1</td>\n    </tr>\n    <tr>\n      <th>24276</th>\n      <td>51</td>\n      <td>1. The patients is a 25-year-old G1 P1 pregnan...</td>\n      <td>NCT03169621</td>\n      <td>Diagnosis of Chronic Endometritis in Endometri...</td>\n      <td>\\n    \\n      Chronic endometritis (CE) is a p...</td>\n      <td>\\n      \\n        Inclusion Criteria:\\r\\n\\r\\n ...</td>\n      <td>0</td>\n    </tr>\n    <tr>\n      <th>24768</th>\n      <td>52</td>\n      <td>1. A 34 year old man comes to the clinic compl...</td>\n      <td>NCT03029949</td>\n      <td>Acceptance and Commitment Therapy With Vestibu...</td>\n      <td>\\n    \\n      The purpose of this study is to ...</td>\n      <td>\\n      \\n        Inclusion Criteria:\\r\\n\\r\\n ...</td>\n      <td>0</td>\n    </tr>\n    <tr>\n      <th>18485</th>\n      <td>39</td>\n      <td>1. A 3-day-old Asian female infant presents wi...</td>\n      <td>NCT01244503</td>\n      <td>Prediction of Severity of Liver Disease by a 1...</td>\n      <td>\\n    \\n      The purpose of the study is to d...</td>\n      <td>\\n      \\n        Inclusion Criteria:\\r\\n\\r\\n ...</td>\n      <td>0</td>\n    </tr>\n    <tr>\n      <th>2965</th>\n      <td>7</td>\n      <td>1. 60 yo M with Hep C cirrhosis, grade II esop...</td>\n      <td>NCT00985010</td>\n      <td>Manganese in Women With Encephalopathy</td>\n      <td>\\n    \\n      Objective:\\r\\n\\r\\n      Report m...</td>\n      <td>\\n      \\n        Inclusion Criteria:\\r\\n\\r\\n ...</td>\n      <td>0</td>\n    </tr>\n    <tr>\n      <th>23412</th>\n      <td>49</td>\n      <td>1. A 12 year old girl came to the clinic with ...</td>\n      <td>NCT01590095</td>\n      <td>WASH Benefits Bangladesh</td>\n      <td>\\n    \\n      Brief Summary:\\r\\n\\r\\n      The ...</td>\n      <td>\\n      \\n        Inclusion Criteria:\\r\\n\\r\\n ...</td>\n      <td>0</td>\n    </tr>\n    <tr>\n      <th>767</th>\n      <td>2</td>\n      <td>1. 48 M with a h/o HTN hyperlipidemia, bicuspi...</td>\n      <td>NCT04527367</td>\n      <td>Epidemiology and Long-term Outcome of Patients...</td>\n      <td>\\n    \\n      Valvular heart diseases are sign...</td>\n      <td>\\n      \\n        Inclusion Criteria:\\r\\n\\r\\n ...</td>\n      <td>2</td>\n    </tr>\n  </tbody>\n</table>\n</div>"
     },
     "execution_count": 40,
     "metadata": {},
     "output_type": "execute_result"
    }
   ],
   "source": [
    "df_final_filtered.sample(10)"
   ],
   "metadata": {
    "collapsed": false,
    "ExecuteTime": {
     "end_time": "2024-05-11T20:47:08.593819Z",
     "start_time": "2024-05-11T20:47:08.540977Z"
    }
   },
   "id": "4dcd0b99a19d881f"
  },
  {
   "cell_type": "code",
   "execution_count": 48,
   "outputs": [
    {
     "name": "stdout",
     "output_type": "stream",
     "text": [
      "\n",
      "      \n",
      "        Inclusion Criteria:\r\n",
      "\r\n",
      "          -  Patients must have histologically proven malignant glioma (anaplastic astrocytoma,\r\n",
      "             anaplastic oligodendroglioma or glioblastoma multiforme) which is progressive or\r\n",
      "             recurrent after radiation therapy ± chemotherapy; patients with previous low grade\r\n",
      "             glioma who progressed after radiotherapy ± chemotherapy and are biopsied and found to\r\n",
      "             have a high grade glioma are eligible\r\n",
      "\r\n",
      "          -  Patients must have measurable progressive or recurrent malignant glioma by MRI or CT\r\n",
      "             imaging; (Within 14 days before starting treatment)\r\n",
      "\r\n",
      "          -  Patients must have recovered from toxicity of prior therapy; an interval of at least 3\r\n",
      "             months must have elapsed since the completion of the most recent course of radiation\r\n",
      "             therapy, while at least 3 weeks must have elapsed since the completion of a\r\n",
      "             non-nitrosourea containing chemotherapy regimen, and at least 6 weeks since the\r\n",
      "             completion of a nitrosourea containing chemotherapy regimen\r\n",
      "\r\n",
      "          -  Patients must have a Karnofsky performance status >= 60% (i.e. the patient must be\r\n",
      "             able to care for himself/herself with occasional help from others)\r\n",
      "\r\n",
      "          -  Absolute Neutrophil Count >= 1500/mm^3\r\n",
      "\r\n",
      "          -  Platelets >= 100,000/mm^3\r\n",
      "\r\n",
      "          -  Creatinine =< 1.7mg/dl\r\n",
      "\r\n",
      "          -  Total Bilirubin =< 1.5mg/dl\r\n",
      "\r\n",
      "          -  Transaminases =< 4 times above the upper limits of the institutional norm\r\n",
      "\r\n",
      "          -  PT, PTT, INR within institutional norm\r\n",
      "\r\n",
      "          -  Patients must be able to provide written informed consent\r\n",
      "\r\n",
      "          -  Patients with the potential for pregnancy or impregnating their partner must agree to\r\n",
      "             follow acceptable birth control methods to avoid conception; women of childbearing\r\n",
      "             potential must have a negative serum pregnancy test; (The anti-proliferative activity\r\n",
      "             of this experimental drug may be harmful to the developing fetus or nursing infant)\r\n",
      "\r\n",
      "          -  Patients must have a Mini Mental State Exam score >= 15\r\n",
      "\r\n",
      "        Exclusion Criteria:\r\n",
      "\r\n",
      "          -  Patients with serious concurrent infection or medical illness which would jeopardize\r\n",
      "             the ability of the patient to receive the treatment outlined in this protocol with\r\n",
      "             reasonable safety; (Examples of medical illnesses are [but not limited to] the\r\n",
      "             following: uncontrolled hypertension, symptomatic congestive heart failure, unstable\r\n",
      "             angina pectoris, cardiac arrhythmia, or psychiatric illness/social situation that\r\n",
      "             would limit compliance with study requirements)\r\n",
      "\r\n",
      "          -  Patients who are pregnant or breast-feeding; (The anti-proliferative activity of this\r\n",
      "             experimental drug may be harmful to the developing fetus or nursing infant)\r\n",
      "\r\n",
      "          -  Patients who have received more than two prior treatments\r\n",
      "\r\n",
      "          -  Patients receiving concurrent therapy for their tumor (with the exception of steroids)\r\n",
      "\r\n",
      "          -  Patients with a concurrent malignancy are ineligible unless they are patients with\r\n",
      "             curatively treated carcinoma-in-situ or basal cell carcinoma of the skin; patients\r\n",
      "             with a prior malignancy are ineligible unless they have been free of disease for >=\r\n",
      "             five years\r\n",
      "\r\n",
      "          -  Patients must not have any evidence of bleeding diathesis\r\n",
      "\r\n",
      "          -  Patients must not be on therapeutic anticoagulation; prophylactic anticoagulation\r\n",
      "             (i.e. low dose warfarin) of venous or arterial access devices is allowed provided that\r\n",
      "             the requirements for PT, INR or PTT are met; (Patients will be taken off treatment if\r\n",
      "             they require therapeutic anticoagulation during BAY 43-9006 treatment)\r\n",
      "      \n",
      "    \n"
     ]
    }
   ],
   "source": [
    "print(df_final_filtered.iloc[4, 5])"
   ],
   "metadata": {
    "collapsed": false,
    "ExecuteTime": {
     "end_time": "2024-05-11T20:48:17.025612Z",
     "start_time": "2024-05-11T20:48:16.981682Z"
    }
   },
   "id": "5fda15e5ccd7effc"
  },
  {
   "cell_type": "code",
   "execution_count": 50,
   "outputs": [
    {
     "name": "stdout",
     "output_type": "stream",
     "text": [
      "\n",
      "      \n",
      "        Inclusion Criteria:\r\n",
      "\r\n",
      "          -  Clinical diagnosis of cerebrovascular accident\r\n",
      "\r\n",
      "          -  Single event\r\n",
      "\r\n",
      "          -  Unilateral hemiplegia\r\n",
      "\r\n",
      "          -  Between 6 months and 18 months post-event\r\n",
      "\r\n",
      "          -  Impairment of upper-extremity function\r\n",
      "\r\n",
      "          -  Ability to produce partial range of motion out of plane of gravity at shoulder, elbow,\r\n",
      "             and wrist\r\n",
      "\r\n",
      "          -  At least 10 degrees of wrist motion (any 10 degrees), and finger flexion/extension in\r\n",
      "             2 fingers\r\n",
      "\r\n",
      "          -  Cognitive ability to follow 3-step commands\r\n",
      "\r\n",
      "        Exclusion Criteria:\r\n",
      "\r\n",
      "          -  Unstable or uncontrolled blood pressure\r\n",
      "\r\n",
      "          -  Uncontrolled seizures\r\n",
      "\r\n",
      "          -  Flaccid hemiplegia\r\n",
      "\r\n",
      "          -  Severe cognitive impairment\r\n",
      "      \n",
      "    \n"
     ]
    }
   ],
   "source": [
    "print(df_final_filtered.iloc[8, 5])"
   ],
   "metadata": {
    "collapsed": false,
    "ExecuteTime": {
     "end_time": "2024-05-11T20:48:31.075811Z",
     "start_time": "2024-05-11T20:48:31.012642Z"
    }
   },
   "id": "df97f70a81af122"
  },
  {
   "cell_type": "code",
   "execution_count": 51,
   "outputs": [],
   "source": [
    "def numerate_criteria(text):\n",
    "    inclusion_pattern = re.compile(r'Inclusion criteria', re.IGNORECASE)\n",
    "    exclusion_pattern = re.compile(r'Exclusion criteria', re.IGNORECASE)\n",
    "    paragraphs = re.split(r'\\r\\n\\r\\n*', text)\n",
    "    numbered_paragraphs = []\n",
    "    counter = 0\n",
    "    incl_crit_number = 0\n",
    "    excl_crit_number = 0\n",
    "    is_excl_criterion = False\n",
    "    for para in paragraphs:\n",
    "        if inclusion_pattern.search(para):\n",
    "            counter = 0\n",
    "            numbered_paragraphs.append(para.strip())\n",
    "        elif exclusion_pattern.search(para):\n",
    "            is_excl_criterion = True\n",
    "            incl_crit_number = counter\n",
    "            counter = 0\n",
    "            numbered_paragraphs.append(para.strip())\n",
    "        else:\n",
    "            leading_spaces = len(re.match(r'^\\s*', para).group(0))\n",
    "            if leading_spaces == 10:\n",
    "                counter += 1\n",
    "                if para.strip().startswith(\"-\") or re.match(r'^\\d+\\.', para.strip()):\n",
    "                    para = re.sub(r'^\\s*[\\-\\d.]+\\s*', '', para)\n",
    "                numbered_paragraphs.append(f\"{counter}. {para.strip()}\")  \n",
    "            else:\n",
    "                numbered_paragraphs.append(f\"{para.strip()}\")\n",
    "    if is_excl_criterion:\n",
    "        excl_crit_number = counter\n",
    "    else:\n",
    "        incl_crit_number = counter\n",
    "    return '\\n\\n'.join(numbered_paragraphs), incl_crit_number, excl_crit_number"
   ],
   "metadata": {
    "collapsed": false,
    "ExecuteTime": {
     "end_time": "2024-05-11T20:49:32.670778Z",
     "start_time": "2024-05-11T20:49:32.639338Z"
    }
   },
   "id": "7184ca160ab4c41e"
  },
  {
   "cell_type": "code",
   "execution_count": 52,
   "outputs": [],
   "source": [
    "df_final_filtered = pd.DataFrame(df_final_filtered)"
   ],
   "metadata": {
    "collapsed": false,
    "ExecuteTime": {
     "end_time": "2024-05-11T20:49:34.907262Z",
     "start_time": "2024-05-11T20:49:34.875597Z"
    }
   },
   "id": "8a611f6cf75d02d2"
  },
  {
   "cell_type": "code",
   "execution_count": 53,
   "outputs": [],
   "source": [
    "df_final_filtered['eligibility'], df_final_filtered['inclusion_criteria_number'], df_final_filtered['exclusion_criteria_number'] = zip(*df_final_filtered['eligibility'].apply(numerate_criteria))"
   ],
   "metadata": {
    "collapsed": false,
    "ExecuteTime": {
     "end_time": "2024-05-11T20:49:40.861368Z",
     "start_time": "2024-05-11T20:49:36.209580Z"
    }
   },
   "id": "e41d817de2d3d475"
  },
  {
   "cell_type": "code",
   "execution_count": 54,
   "outputs": [
    {
     "data": {
      "text/plain": "      query_id                                               text  \\\n12992       28  1. The patient is a 60-year-old Spanish man pr...   \n27948       60  1. The patient is a 63-year-old man presenting...   \n28750       61  1. The patient is a 45-year-old postmenopausal...   \n17210       36  1. The patient is a 32-year-old obese woman wh...   \n11280       24  1. The patient is a 55 year old man visiting h...   \n16751       35  1. The patient is a 15 year old girl with the ...   \n29629       63  1. A 54-year-old obese woman admitted to the e...   \n29635       63  1. A 54-year-old obese woman admitted to the e...   \n34566       73  1. The patient is a 3-day-old female infant wi...   \n32433       69  1. A 67-year-old healthy woman came to the cli...   \n\n            doc_id                                              title  \\\n12992  NCT01097707   A Study in Men With Benign Prostatic Hyperplasia   \n27948  NCT00381108  Study of the Effects of Pomegranate Tablets on...   \n28750  NCT03109522           Axillary Reverse Mapping (ARM) Technique   \n17210  NCT02940613  Using Visual Feedback to Influence Rapid Respo...   \n11280  NCT03994263  A Prospective Study to Observe the Mechanism o...   \n16751  NCT03806595  A Pilot Study of Intranasal Lidocaine in Acute...   \n29629  NCT02674750  Study to Evaluate the Efficacy and Safety of C...   \n29635  NCT02691845  Initiating and Maintaining Physical Activity i...   \n34566  NCT02177461  Telmisartan Compared With Enalapril in Elderly...   \n32433  NCT01164553        Comparison of Flu Vaccine Doses in Children   \n\n                                                 summary  \\\n12992  \\n    \\n      The purpose of the study is to d...   \n27948  \\n    \\n      To determine whether pomegranate...   \n28750  \\n    \\n      The purpose of this pilot study ...   \n17210  \\n    \\n      This study has two aims: 1) to t...   \n11280  \\n    \\n      A total of up to 15 eligible sub...   \n16751  \\n    \\n      Headaches in children are very c...   \n29629  \\n    \\n      This is a Phase 2, open-label, m...   \n29635  \\n    \\n      The investigators propose a rand...   \n34566  \\n    \\n      Study to assess the efficacy and...   \n32433  \\n    \\n      The purpose of this study is to ...   \n\n                                             eligibility  relevance  \\\n12992  Inclusion Criteria:\\n\\n1. Present at screening...          0   \n27948  Inclusion Criteria:\\n\\n1. 18 years of age or o...          2   \n28750  Inclusion Criteria: women diagnosed with invas...          1   \n17210  Inclusion Criteria:\\n\\n1. BMI (Body Mass Index...          0   \n11280  Inclusion Criteria:\\n\\n1. Subject signed infor...          2   \n16751  Inclusion Criteria:\\n\\n1. Children aged 7-16 y...          2   \n29629  Inclusion Criteria:\\n\\n1. Age ≥ 18 years.\\n\\n2...          0   \n29635  Inclusion Criteria:\\n\\n1. Sedentary, i.e., hav...          0   \n34566  Inclusion Criteria:\\n\\n1. Age ≥ 65 years\\n\\n2....          0   \n32433  Inclusion Criteria:\\n\\nAll Subjects\\n\\n1. Heal...          1   \n\n       inclusion_criteria_number  exclusion_criteria_number  \n12992                          9                          9  \n27948                          2                          4  \n28750                          4                          6  \n17210                          2                          1  \n11280                          9                         13  \n16751                          6                          5  \n29629                          3                          7  \n29635                          9                          0  \n34566                          3                         22  \n32433                          5                         19  ",
      "text/html": "<div>\n<style scoped>\n    .dataframe tbody tr th:only-of-type {\n        vertical-align: middle;\n    }\n\n    .dataframe tbody tr th {\n        vertical-align: top;\n    }\n\n    .dataframe thead th {\n        text-align: right;\n    }\n</style>\n<table border=\"1\" class=\"dataframe\">\n  <thead>\n    <tr style=\"text-align: right;\">\n      <th></th>\n      <th>query_id</th>\n      <th>text</th>\n      <th>doc_id</th>\n      <th>title</th>\n      <th>summary</th>\n      <th>eligibility</th>\n      <th>relevance</th>\n      <th>inclusion_criteria_number</th>\n      <th>exclusion_criteria_number</th>\n    </tr>\n  </thead>\n  <tbody>\n    <tr>\n      <th>12992</th>\n      <td>28</td>\n      <td>1. The patient is a 60-year-old Spanish man pr...</td>\n      <td>NCT01097707</td>\n      <td>A Study in Men With Benign Prostatic Hyperplasia</td>\n      <td>\\n    \\n      The purpose of the study is to d...</td>\n      <td>Inclusion Criteria:\\n\\n1. Present at screening...</td>\n      <td>0</td>\n      <td>9</td>\n      <td>9</td>\n    </tr>\n    <tr>\n      <th>27948</th>\n      <td>60</td>\n      <td>1. The patient is a 63-year-old man presenting...</td>\n      <td>NCT00381108</td>\n      <td>Study of the Effects of Pomegranate Tablets on...</td>\n      <td>\\n    \\n      To determine whether pomegranate...</td>\n      <td>Inclusion Criteria:\\n\\n1. 18 years of age or o...</td>\n      <td>2</td>\n      <td>2</td>\n      <td>4</td>\n    </tr>\n    <tr>\n      <th>28750</th>\n      <td>61</td>\n      <td>1. The patient is a 45-year-old postmenopausal...</td>\n      <td>NCT03109522</td>\n      <td>Axillary Reverse Mapping (ARM) Technique</td>\n      <td>\\n    \\n      The purpose of this pilot study ...</td>\n      <td>Inclusion Criteria: women diagnosed with invas...</td>\n      <td>1</td>\n      <td>4</td>\n      <td>6</td>\n    </tr>\n    <tr>\n      <th>17210</th>\n      <td>36</td>\n      <td>1. The patient is a 32-year-old obese woman wh...</td>\n      <td>NCT02940613</td>\n      <td>Using Visual Feedback to Influence Rapid Respo...</td>\n      <td>\\n    \\n      This study has two aims: 1) to t...</td>\n      <td>Inclusion Criteria:\\n\\n1. BMI (Body Mass Index...</td>\n      <td>0</td>\n      <td>2</td>\n      <td>1</td>\n    </tr>\n    <tr>\n      <th>11280</th>\n      <td>24</td>\n      <td>1. The patient is a 55 year old man visiting h...</td>\n      <td>NCT03994263</td>\n      <td>A Prospective Study to Observe the Mechanism o...</td>\n      <td>\\n    \\n      A total of up to 15 eligible sub...</td>\n      <td>Inclusion Criteria:\\n\\n1. Subject signed infor...</td>\n      <td>2</td>\n      <td>9</td>\n      <td>13</td>\n    </tr>\n    <tr>\n      <th>16751</th>\n      <td>35</td>\n      <td>1. The patient is a 15 year old girl with the ...</td>\n      <td>NCT03806595</td>\n      <td>A Pilot Study of Intranasal Lidocaine in Acute...</td>\n      <td>\\n    \\n      Headaches in children are very c...</td>\n      <td>Inclusion Criteria:\\n\\n1. Children aged 7-16 y...</td>\n      <td>2</td>\n      <td>6</td>\n      <td>5</td>\n    </tr>\n    <tr>\n      <th>29629</th>\n      <td>63</td>\n      <td>1. A 54-year-old obese woman admitted to the e...</td>\n      <td>NCT02674750</td>\n      <td>Study to Evaluate the Efficacy and Safety of C...</td>\n      <td>\\n    \\n      This is a Phase 2, open-label, m...</td>\n      <td>Inclusion Criteria:\\n\\n1. Age ≥ 18 years.\\n\\n2...</td>\n      <td>0</td>\n      <td>3</td>\n      <td>7</td>\n    </tr>\n    <tr>\n      <th>29635</th>\n      <td>63</td>\n      <td>1. A 54-year-old obese woman admitted to the e...</td>\n      <td>NCT02691845</td>\n      <td>Initiating and Maintaining Physical Activity i...</td>\n      <td>\\n    \\n      The investigators propose a rand...</td>\n      <td>Inclusion Criteria:\\n\\n1. Sedentary, i.e., hav...</td>\n      <td>0</td>\n      <td>9</td>\n      <td>0</td>\n    </tr>\n    <tr>\n      <th>34566</th>\n      <td>73</td>\n      <td>1. The patient is a 3-day-old female infant wi...</td>\n      <td>NCT02177461</td>\n      <td>Telmisartan Compared With Enalapril in Elderly...</td>\n      <td>\\n    \\n      Study to assess the efficacy and...</td>\n      <td>Inclusion Criteria:\\n\\n1. Age ≥ 65 years\\n\\n2....</td>\n      <td>0</td>\n      <td>3</td>\n      <td>22</td>\n    </tr>\n    <tr>\n      <th>32433</th>\n      <td>69</td>\n      <td>1. A 67-year-old healthy woman came to the cli...</td>\n      <td>NCT01164553</td>\n      <td>Comparison of Flu Vaccine Doses in Children</td>\n      <td>\\n    \\n      The purpose of this study is to ...</td>\n      <td>Inclusion Criteria:\\n\\nAll Subjects\\n\\n1. Heal...</td>\n      <td>1</td>\n      <td>5</td>\n      <td>19</td>\n    </tr>\n  </tbody>\n</table>\n</div>"
     },
     "execution_count": 54,
     "metadata": {},
     "output_type": "execute_result"
    }
   ],
   "source": [
    "df_final_filtered.sample(10)"
   ],
   "metadata": {
    "collapsed": false,
    "ExecuteTime": {
     "end_time": "2024-05-11T20:49:42.363888Z",
     "start_time": "2024-05-11T20:49:42.307346Z"
    }
   },
   "id": "adaf5b5cfa256916"
  },
  {
   "cell_type": "code",
   "execution_count": 55,
   "outputs": [],
   "source": [
    "df_final = df_final_filtered[df_final_filtered['inclusion_criteria_number'] != 0]"
   ],
   "metadata": {
    "collapsed": false,
    "ExecuteTime": {
     "end_time": "2024-05-11T20:49:46.834530Z",
     "start_time": "2024-05-11T20:49:46.525436Z"
    }
   },
   "id": "839a4eaf3c1d09ad"
  },
  {
   "cell_type": "code",
   "execution_count": 56,
   "outputs": [],
   "source": [
    "df_final = df_final[df_final['exclusion_criteria_number'] != 0]"
   ],
   "metadata": {
    "collapsed": false,
    "ExecuteTime": {
     "end_time": "2024-05-11T20:49:48.297359Z",
     "start_time": "2024-05-11T20:49:47.975186Z"
    }
   },
   "id": "fa92c032ee4f2668"
  },
  {
   "cell_type": "code",
   "execution_count": 57,
   "outputs": [
    {
     "data": {
      "text/plain": "(32488, 9)"
     },
     "execution_count": 57,
     "metadata": {},
     "output_type": "execute_result"
    }
   ],
   "source": [
    "df_final_filtered.shape"
   ],
   "metadata": {
    "collapsed": false,
    "ExecuteTime": {
     "end_time": "2024-05-11T20:49:49.515722Z",
     "start_time": "2024-05-11T20:49:49.464511Z"
    }
   },
   "id": "34befc73abfedbfe"
  },
  {
   "cell_type": "code",
   "execution_count": 58,
   "outputs": [
    {
     "data": {
      "text/plain": "(28331, 9)"
     },
     "execution_count": 58,
     "metadata": {},
     "output_type": "execute_result"
    }
   ],
   "source": [
    "df_final.shape"
   ],
   "metadata": {
    "collapsed": false,
    "ExecuteTime": {
     "end_time": "2024-05-11T20:49:54.785543Z",
     "start_time": "2024-05-11T20:49:54.730987Z"
    }
   },
   "id": "a47f6f172a57027a"
  },
  {
   "cell_type": "code",
   "execution_count": 59,
   "outputs": [],
   "source": [
    "df = pd.DataFrame(df_final)\n",
    "\n",
    "df[['inclusion_criteria', 'exclusion_criteria']] = df['eligibility'].str.split(r'(?i)Exclusion Criteria:', n=1, expand=True)\n",
    "\n",
    "df['inclusion_criteria'] = df['inclusion_criteria'].str.strip().str.replace(r'(?i)Inclusion Criteria:', '', regex=True)\n",
    "df['exclusion_criteria'] = df['exclusion_criteria'].str.strip()\n",
    "\n",
    "df.drop(columns=['eligibility'], inplace=True)"
   ],
   "metadata": {
    "collapsed": false,
    "ExecuteTime": {
     "end_time": "2024-05-11T20:50:05.926666Z",
     "start_time": "2024-05-11T20:50:01.662991Z"
    }
   },
   "id": "a92831d8dc306bb7"
  },
  {
   "cell_type": "code",
   "execution_count": 60,
   "outputs": [
    {
     "data": {
      "text/plain": "(28331, 10)"
     },
     "execution_count": 60,
     "metadata": {},
     "output_type": "execute_result"
    }
   ],
   "source": [
    "df.shape"
   ],
   "metadata": {
    "collapsed": false,
    "ExecuteTime": {
     "end_time": "2024-05-11T20:50:07.115590Z",
     "start_time": "2024-05-11T20:50:07.042370Z"
    }
   },
   "id": "f6d4198e758e8c4a"
  },
  {
   "cell_type": "code",
   "execution_count": 61,
   "outputs": [],
   "source": [
    "df_suitable_length = df[(df['inclusion_criteria'].str.len() < 1000) & (df['exclusion_criteria'].str.len() < 1000)]"
   ],
   "metadata": {
    "collapsed": false,
    "ExecuteTime": {
     "end_time": "2024-05-11T20:50:09.491579Z",
     "start_time": "2024-05-11T20:50:09.405829Z"
    }
   },
   "id": "a476cec3d42e067b"
  },
  {
   "cell_type": "code",
   "execution_count": 62,
   "outputs": [
    {
     "data": {
      "text/plain": "(18543, 10)"
     },
     "execution_count": 62,
     "metadata": {},
     "output_type": "execute_result"
    }
   ],
   "source": [
    "df_suitable_length.shape"
   ],
   "metadata": {
    "collapsed": false,
    "ExecuteTime": {
     "end_time": "2024-05-11T20:50:10.732444Z",
     "start_time": "2024-05-11T20:50:10.684958Z"
    }
   },
   "id": "6b84ba8ea36876a5"
  },
  {
   "cell_type": "code",
   "execution_count": 63,
   "outputs": [],
   "source": [
    "df_cut = pd.DataFrame(df_suitable_length)"
   ],
   "metadata": {
    "collapsed": false,
    "ExecuteTime": {
     "end_time": "2024-05-11T20:50:13.587992Z",
     "start_time": "2024-05-11T20:50:13.513647Z"
    }
   },
   "id": "4480d1ecdec4a7ea"
  },
  {
   "cell_type": "markdown",
   "source": [
    "### Розподіли категорій \"relevance\""
   ],
   "metadata": {
    "collapsed": false
   },
   "id": "7652186e6a311a58"
  },
  {
   "cell_type": "code",
   "execution_count": 64,
   "outputs": [
    {
     "data": {
      "text/plain": "relevance\n0    12366\n2     3181\n1     2996\nName: count, dtype: int64"
     },
     "execution_count": 64,
     "metadata": {},
     "output_type": "execute_result"
    }
   ],
   "source": [
    "df_cut['relevance'].value_counts()"
   ],
   "metadata": {
    "collapsed": false,
    "ExecuteTime": {
     "end_time": "2024-05-11T21:09:30.130973Z",
     "start_time": "2024-05-11T21:09:30.073431Z"
    }
   },
   "id": "a2eeecd7dce13e08"
  },
  {
   "cell_type": "code",
   "execution_count": 65,
   "outputs": [
    {
     "data": {
      "text/plain": "<seaborn.axisgrid.FacetGrid at 0x333f11820>"
     },
     "execution_count": 65,
     "metadata": {},
     "output_type": "execute_result"
    },
    {
     "data": {
      "text/plain": "<Figure size 500x500 with 1 Axes>",
      "image/png": "[encoded data removed]"
     },
     "metadata": {},
     "output_type": "display_data"
    }
   ],
   "source": [
    "import matplotlib.pyplot as plt\n",
    "import seaborn as sns\n",
    "\n",
    "sns.displot(df_cut['relevance'], color=\"#FDAE14\")"
   ],
   "metadata": {
    "collapsed": false,
    "ExecuteTime": {
     "end_time": "2024-05-11T21:25:46.453087Z",
     "start_time": "2024-05-11T21:25:45.451487Z"
    }
   },
   "id": "dd549815047d3acc"
  },
  {
   "cell_type": "code",
   "execution_count": 76,
   "outputs": [],
   "source": [
    "def plot_relevance_counts(df, figsize=(22, 4), xlabel='Query ID', ylabel='Counts'):\n",
    "    grouped_data = df.groupby(['query_id', 'relevance']).size().reset_index(name='counts')\n",
    "    \n",
    "    custom_palette = ['#B1401D', '#FDAE14', '#59B243']\n",
    "    plt.figure(figsize=figsize)\n",
    "    sns.barplot(x='query_id', y='counts', hue='relevance', data=grouped_data, palette=custom_palette)\n",
    "    plt.xlabel(xlabel)\n",
    "    plt.ylabel(ylabel)\n",
    "    plt.show()"
   ],
   "metadata": {
    "collapsed": false,
    "ExecuteTime": {
     "end_time": "2024-05-11T21:35:22.460258Z",
     "start_time": "2024-05-11T21:35:22.425751Z"
    }
   },
   "id": "aa255eceece5c31b"
  },
  {
   "cell_type": "code",
   "execution_count": 77,
   "outputs": [
    {
     "data": {
      "text/plain": "<Figure size 2200x400 with 1 Axes>",
      "image/png": "[encoded data removed]"
     },
     "metadata": {},
     "output_type": "display_data"
    }
   ],
   "source": [
    "plot_relevance_counts(df_cut)"
   ],
   "metadata": {
    "collapsed": false,
    "ExecuteTime": {
     "end_time": "2024-05-11T21:35:24.552502Z",
     "start_time": "2024-05-11T21:35:23.868984Z"
    }
   },
   "id": "6f64b9830bfb5e99"
  },
  {
   "cell_type": "code",
   "execution_count": 78,
   "outputs": [],
   "source": [
    "grouped = df_cut.groupby('query_id')\n",
    "\n",
    "undersampled = pd.DataFrame()\n",
    "\n",
    "for name, group in grouped:\n",
    "    counts = group['relevance'].value_counts()\n",
    "    \n",
    "    average_count = counts[counts.index != 0].mean().astype(int)\n",
    "    \n",
    "    sampled_group_zero = group[group['relevance'] == 0].sample(min(average_count, len(group[group['relevance'] == 0])), replace=True)\n",
    "    sampled_group_nonzero = group[group['relevance'] != 0]\n",
    "    \n",
    "    sampled_group = pd.concat([sampled_group_zero, sampled_group_nonzero])\n",
    "    undersampled = pd.concat([undersampled, sampled_group])"
   ],
   "metadata": {
    "collapsed": false,
    "ExecuteTime": {
     "end_time": "2024-05-11T21:43:26.305765Z",
     "start_time": "2024-05-11T21:43:24.249223Z"
    }
   },
   "id": "15085d1ddc607f8f"
  },
  {
   "cell_type": "code",
   "execution_count": 79,
   "outputs": [
    {
     "data": {
      "text/plain": "<Figure size 2200x400 with 1 Axes>",
      "image/png": "[encoded data removed]"
     },
     "metadata": {},
     "output_type": "display_data"
    }
   ],
   "source": [
    "plot_relevance_counts(undersampled)"
   ],
   "metadata": {
    "collapsed": false,
    "ExecuteTime": {
     "end_time": "2024-05-11T21:43:28.205698Z",
     "start_time": "2024-05-11T21:43:26.932730Z"
    }
   },
   "id": "beee660f847de04d"
  },
  {
   "cell_type": "code",
   "execution_count": 80,
   "outputs": [
    {
     "data": {
      "text/plain": "relevance\n2    3181\n0    3053\n1    2996\nName: count, dtype: int64"
     },
     "execution_count": 80,
     "metadata": {},
     "output_type": "execute_result"
    }
   ],
   "source": [
    "undersampled['relevance'].value_counts()"
   ],
   "metadata": {
    "collapsed": false,
    "ExecuteTime": {
     "end_time": "2024-05-11T21:43:42.148541Z",
     "start_time": "2024-05-11T21:43:42.126953Z"
    }
   },
   "id": "6fbfe4acac9a734d"
  },
  {
   "cell_type": "code",
   "execution_count": 81,
   "outputs": [
    {
     "data": {
      "text/plain": "(9230, 10)"
     },
     "execution_count": 81,
     "metadata": {},
     "output_type": "execute_result"
    }
   ],
   "source": [
    "undersampled.shape"
   ],
   "metadata": {
    "collapsed": false,
    "ExecuteTime": {
     "end_time": "2024-05-11T21:43:44.230666Z",
     "start_time": "2024-05-11T21:43:44.184923Z"
    }
   },
   "id": "7fb1f04bc32154bd"
  },
  {
   "cell_type": "markdown",
   "source": [
    "### Поділ датасету"
   ],
   "metadata": {
    "collapsed": false
   },
   "id": "6ee6c671f3e8e600"
  },
  {
   "cell_type": "code",
   "execution_count": 83,
   "outputs": [],
   "source": [
    "undersampled = undersampled[['query_id', 'text', 'doc_id', 'title', 'inclusion_criteria', 'exclusion_criteria', 'inclusion_criteria_number', 'exclusion_criteria_number', 'relevance']]"
   ],
   "metadata": {
    "collapsed": false,
    "ExecuteTime": {
     "end_time": "2024-05-11T21:46:16.614390Z",
     "start_time": "2024-05-11T21:46:15.756041Z"
    }
   },
   "id": "af45d787ad0f1440"
  },
  {
   "cell_type": "code",
   "execution_count": 86,
   "outputs": [],
   "source": [
    "def plot_value_counts(dataframe, column='query_id'):\n",
    "\n",
    "    value_counts = dataframe[column].value_counts()\n",
    "\n",
    "    plt.figure(figsize=(30, 6))\n",
    "    value_counts.plot(kind='bar', color=\"#FDAE14\")\n",
    "    plt.xlabel(column)\n",
    "    plt.ylabel('Counts')\n",
    "    plt.show()"
   ],
   "metadata": {
    "collapsed": false,
    "ExecuteTime": {
     "end_time": "2024-05-11T21:47:11.368845Z",
     "start_time": "2024-05-11T21:47:11.355470Z"
    }
   },
   "id": "30a51b7f829d7a20"
  },
  {
   "cell_type": "code",
   "execution_count": 87,
   "outputs": [
    {
     "data": {
      "text/plain": "<Figure size 3000x600 with 1 Axes>",
      "image/png": "[encoded data removed]"
     },
     "metadata": {},
     "output_type": "display_data"
    }
   ],
   "source": [
    "plot_value_counts(undersampled)"
   ],
   "metadata": {
    "collapsed": false,
    "ExecuteTime": {
     "end_time": "2024-05-11T21:47:12.895940Z",
     "start_time": "2024-05-11T21:47:12.484072Z"
    }
   },
   "id": "32fa3c929785cb31"
  },
  {
   "cell_type": "code",
   "execution_count": 88,
   "outputs": [],
   "source": [
    "from sklearn.model_selection import train_test_split"
   ],
   "metadata": {
    "collapsed": false,
    "ExecuteTime": {
     "end_time": "2024-05-11T21:47:15.240706Z",
     "start_time": "2024-05-11T21:47:15.202067Z"
    }
   },
   "id": "c68f951a5be70614"
  },
  {
   "cell_type": "code",
   "execution_count": 89,
   "outputs": [],
   "source": [
    "df_sorted = undersampled.sort_values(by='query_id')\n",
    "query_ids = df_sorted['query_id'].unique()\n",
    "\n",
    "train_query_ids, test_query_ids = train_test_split(query_ids, test_size=0.2, random_state=42)\n",
    "\n",
    "df_train = df_sorted[df_sorted['query_id'].isin(train_query_ids)]\n",
    "df_test = df_sorted[df_sorted['query_id'].isin(test_query_ids)]"
   ],
   "metadata": {
    "collapsed": false,
    "ExecuteTime": {
     "end_time": "2024-05-11T21:47:17.060590Z",
     "start_time": "2024-05-11T21:47:16.959919Z"
    }
   },
   "id": "107cfb30c1660f98"
  },
  {
   "cell_type": "code",
   "execution_count": 90,
   "outputs": [
    {
     "data": {
      "text/plain": "(7564, 9)"
     },
     "execution_count": 90,
     "metadata": {},
     "output_type": "execute_result"
    }
   ],
   "source": [
    "df_train.shape"
   ],
   "metadata": {
    "collapsed": false,
    "ExecuteTime": {
     "end_time": "2024-05-11T21:47:18.674618Z",
     "start_time": "2024-05-11T21:47:18.650512Z"
    }
   },
   "id": "8d9eeaaa4297884"
  },
  {
   "cell_type": "code",
   "execution_count": 91,
   "outputs": [
    {
     "data": {
      "text/plain": "(1666, 9)"
     },
     "execution_count": 91,
     "metadata": {},
     "output_type": "execute_result"
    }
   ],
   "source": [
    "df_test.shape"
   ],
   "metadata": {
    "collapsed": false,
    "ExecuteTime": {
     "end_time": "2024-05-11T21:47:21.377556Z",
     "start_time": "2024-05-11T21:47:21.352389Z"
    }
   },
   "id": "4f7591af6282fabc"
  },
  {
   "cell_type": "code",
   "execution_count": 92,
   "outputs": [
    {
     "data": {
      "text/plain": "relevance\n2    2668\n0    2500\n1    2396\nName: count, dtype: int64"
     },
     "execution_count": 92,
     "metadata": {},
     "output_type": "execute_result"
    }
   ],
   "source": [
    "df_train['relevance'].value_counts()"
   ],
   "metadata": {
    "collapsed": false,
    "ExecuteTime": {
     "end_time": "2024-05-11T21:47:22.650128Z",
     "start_time": "2024-05-11T21:47:22.629247Z"
    }
   },
   "id": "a6f5cf5f79dabed1"
  },
  {
   "cell_type": "code",
   "execution_count": 93,
   "outputs": [
    {
     "data": {
      "text/plain": "relevance\n1    600\n0    553\n2    513\nName: count, dtype: int64"
     },
     "execution_count": 93,
     "metadata": {},
     "output_type": "execute_result"
    }
   ],
   "source": [
    "df_test['relevance'].value_counts()"
   ],
   "metadata": {
    "collapsed": false,
    "ExecuteTime": {
     "end_time": "2024-05-11T21:47:24.461377Z",
     "start_time": "2024-05-11T21:47:24.417698Z"
    }
   },
   "id": "a28f036afd1ec65d"
  },
  {
   "cell_type": "code",
   "execution_count": 94,
   "outputs": [
    {
     "data": {
      "text/plain": "<Figure size 3000x600 with 1 Axes>",
      "image/png": "[encoded data removed]"
     },
     "metadata": {},
     "output_type": "display_data"
    }
   ],
   "source": [
    "plot_value_counts(df_train)"
   ],
   "metadata": {
    "collapsed": false,
    "ExecuteTime": {
     "end_time": "2024-05-11T21:47:26.616139Z",
     "start_time": "2024-05-11T21:47:26.301683Z"
    }
   },
   "id": "384e0d5aef8359af"
  },
  {
   "cell_type": "code",
   "execution_count": 95,
   "outputs": [
    {
     "data": {
      "text/plain": "<Figure size 3000x600 with 1 Axes>",
      "image/png": "[encoded data removed]"
     },
     "metadata": {},
     "output_type": "display_data"
    }
   ],
   "source": [
    "plot_value_counts(df_test)"
   ],
   "metadata": {
    "collapsed": false,
    "ExecuteTime": {
     "end_time": "2024-05-11T21:47:28.486630Z",
     "start_time": "2024-05-11T21:47:28.243191Z"
    }
   },
   "id": "28caadcf4e119866"
  },
  {
   "cell_type": "code",
   "execution_count": 178,
   "outputs": [],
   "source": [
    "df_train.to_csv('train_data.csv', index=False)"
   ],
   "metadata": {
    "collapsed": false,
    "ExecuteTime": {
     "end_time": "2024-04-15T21:46:00.564353Z",
     "start_time": "2024-04-15T21:46:00.330589Z"
    }
   },
   "id": "50c71037afbeb252"
  },
  {
   "cell_type": "code",
   "execution_count": 203,
   "outputs": [],
   "source": [
    "df_test.to_csv('../test_data.csv', index=False)"
   ],
   "metadata": {
    "collapsed": false,
    "ExecuteTime": {
     "end_time": "2024-04-20T01:00:08.002782Z",
     "start_time": "2024-04-20T01:00:07.811346Z"
    }
   },
   "id": "812b68ec9aaa3d09"
  }
 ],
 "metadata": {
  "kernelspec": {
   "display_name": "Python 3",
   "language": "python",
   "name": "python3"
  },
  "language_info": {
   "codemirror_mode": {
    "name": "ipython",
    "version": 2
   },
   "file_extension": ".py",
   "mimetype": "text/x-python",
   "name": "python",
   "nbconvert_exporter": "python",
   "pygments_lexer": "ipython2",
   "version": "2.7.6"
  }
 },
 "nbformat": 4,
 "nbformat_minor": 5
}
