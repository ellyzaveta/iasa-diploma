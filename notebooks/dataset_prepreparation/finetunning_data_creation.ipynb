{
 "cells": [
  {
   "cell_type": "code",
   "execution_count": 3,
   "id": "initial_id",
   "metadata": {
    "collapsed": true,
    "ExecuteTime": {
     "end_time": "2024-04-26T19:03:31.200424Z",
     "start_time": "2024-04-26T19:03:31.184641Z"
    }
   },
   "outputs": [],
   "source": [
    "import pandas as pd"
   ]
  },
  {
   "cell_type": "code",
   "execution_count": 4,
   "outputs": [],
   "source": [
    "df = pd.read_csv('train_prompts_outputs.csv')"
   ],
   "metadata": {
    "collapsed": false,
    "ExecuteTime": {
     "end_time": "2024-04-26T19:03:32.589997Z",
     "start_time": "2024-04-26T19:03:32.158378Z"
    }
   },
   "id": "9dbb8c11289d6e20"
  },
  {
   "cell_type": "code",
   "execution_count": 5,
   "outputs": [
    {
     "data": {
      "text/plain": "(7564, 7)"
     },
     "execution_count": 5,
     "metadata": {},
     "output_type": "execute_result"
    }
   ],
   "source": [
    "df.shape"
   ],
   "metadata": {
    "collapsed": false,
    "ExecuteTime": {
     "end_time": "2024-04-26T19:03:33.417174Z",
     "start_time": "2024-04-26T19:03:33.395792Z"
    }
   },
   "id": "4a488c79cce4deb2"
  },
  {
   "cell_type": "code",
   "execution_count": 6,
   "outputs": [],
   "source": [
    "df_invalid_output = df[(df['inclusion_criteria_output'] == '\"{}\"') | (df['exclusion_criteria_output'] == '\"{}\"')]"
   ],
   "metadata": {
    "collapsed": false,
    "ExecuteTime": {
     "end_time": "2024-04-26T19:03:35.112885Z",
     "start_time": "2024-04-26T19:03:35.077182Z"
    }
   },
   "id": "4df48d46f568dc82"
  },
  {
   "cell_type": "code",
   "execution_count": 7,
   "outputs": [
    {
     "data": {
      "text/plain": "(78, 7)"
     },
     "execution_count": 7,
     "metadata": {},
     "output_type": "execute_result"
    }
   ],
   "source": [
    "df_invalid_output.shape"
   ],
   "metadata": {
    "collapsed": false,
    "ExecuteTime": {
     "end_time": "2024-04-26T19:03:35.985750Z",
     "start_time": "2024-04-26T19:03:35.949953Z"
    }
   },
   "id": "264a7682dbc2f764"
  },
  {
   "cell_type": "code",
   "execution_count": 8,
   "outputs": [],
   "source": [
    "df_valid_output = df[(df['inclusion_criteria_output'] != '\"{}\"') & (df['exclusion_criteria_output'] != '\"{}\"')]"
   ],
   "metadata": {
    "collapsed": false,
    "ExecuteTime": {
     "end_time": "2024-04-26T19:03:37.511647Z",
     "start_time": "2024-04-26T19:03:37.502072Z"
    }
   },
   "id": "ca5d483e9525d82d"
  },
  {
   "cell_type": "code",
   "execution_count": 9,
   "outputs": [
    {
     "data": {
      "text/plain": "(7486, 7)"
     },
     "execution_count": 9,
     "metadata": {},
     "output_type": "execute_result"
    }
   ],
   "source": [
    "df_valid_output.shape"
   ],
   "metadata": {
    "collapsed": false,
    "ExecuteTime": {
     "end_time": "2024-04-26T19:03:38.400883Z",
     "start_time": "2024-04-26T19:03:38.387938Z"
    }
   },
   "id": "15548ee9562a657f"
  },
  {
   "cell_type": "code",
   "execution_count": 10,
   "outputs": [],
   "source": [
    "import json"
   ],
   "metadata": {
    "collapsed": false,
    "ExecuteTime": {
     "end_time": "2024-04-26T19:03:42.698276Z",
     "start_time": "2024-04-26T19:03:42.679358Z"
    }
   },
   "id": "23e841a24bfe91f3"
  },
  {
   "cell_type": "code",
   "execution_count": 11,
   "outputs": [],
   "source": [
    "def verify_json_conditions(input_data):\n",
    "    data = json.loads(input_data)\n",
    "    json_data = json.loads(data)\n",
    "\n",
    "    for key, value in json_data.items():\n",
    "        array = value[1]\n",
    "        label = value[2]\n",
    "        if label == \"met\" or label == \"not met\":\n",
    "            if not array:\n",
    "                return False\n",
    "        elif label == 'no relevant information':\n",
    "            if array:\n",
    "                return False\n",
    "    \n",
    "    return True\n"
   ],
   "metadata": {
    "collapsed": false,
    "ExecuteTime": {
     "end_time": "2024-04-26T19:03:44.039015Z",
     "start_time": "2024-04-26T19:03:44.014702Z"
    }
   },
   "id": "8aa9244f74eced34"
  },
  {
   "cell_type": "code",
   "execution_count": 12,
   "outputs": [],
   "source": [
    "df_invalid_json_conditions = df_valid_output[(df_valid_output[\"inclusion_criteria_output\"].apply(verify_json_conditions) == False) | (df_valid_output[\"exclusion_criteria_output\"].apply(verify_json_conditions) == False)]"
   ],
   "metadata": {
    "collapsed": false,
    "ExecuteTime": {
     "end_time": "2024-04-26T19:03:45.514740Z",
     "start_time": "2024-04-26T19:03:45.478497Z"
    }
   },
   "id": "237d504afecb0d2d"
  },
  {
   "cell_type": "code",
   "execution_count": 13,
   "outputs": [
    {
     "data": {
      "text/plain": "(5184, 7)"
     },
     "execution_count": 13,
     "metadata": {},
     "output_type": "execute_result"
    }
   ],
   "source": [
    "df_invalid_json_conditions.shape"
   ],
   "metadata": {
    "collapsed": false,
    "ExecuteTime": {
     "end_time": "2024-04-26T19:03:46.552562Z",
     "start_time": "2024-04-26T19:03:46.540371Z"
    }
   },
   "id": "50b41afd9f1b208"
  },
  {
   "cell_type": "code",
   "execution_count": 14,
   "outputs": [],
   "source": [
    "df_valid_json_conditions = df_valid_output[~((df_valid_output[\"inclusion_criteria_output\"].apply(verify_json_conditions) == False) | (df_valid_output[\"exclusion_criteria_output\"].apply(verify_json_conditions) == False))]"
   ],
   "metadata": {
    "collapsed": false,
    "ExecuteTime": {
     "end_time": "2024-04-26T19:03:48.868255Z",
     "start_time": "2024-04-26T19:03:48.807491Z"
    }
   },
   "id": "17d5953a381e5c81"
  },
  {
   "cell_type": "code",
   "execution_count": 15,
   "outputs": [
    {
     "data": {
      "text/plain": "(2302, 7)"
     },
     "execution_count": 15,
     "metadata": {},
     "output_type": "execute_result"
    }
   ],
   "source": [
    "df_valid_json_conditions.shape"
   ],
   "metadata": {
    "collapsed": false,
    "ExecuteTime": {
     "end_time": "2024-04-26T19:03:49.873087Z",
     "start_time": "2024-04-26T19:03:49.861129Z"
    }
   },
   "id": "667d9224250f3401"
  },
  {
   "cell_type": "code",
   "execution_count": 74,
   "outputs": [],
   "source": [
    "df_invalid_output.to_csv('invalid_data.csv', index = False)"
   ],
   "metadata": {
    "collapsed": false,
    "ExecuteTime": {
     "end_time": "2024-04-18T16:05:58.460634Z",
     "start_time": "2024-04-18T16:05:58.399540Z"
    }
   },
   "id": "14152d8232bb837f"
  },
  {
   "cell_type": "code",
   "execution_count": 16,
   "outputs": [
    {
     "data": {
      "text/plain": "                       inclusion_criteria_system_prompt  \\\n6131  \\nYou are a helpful assistant for matching pat...   \n2009  \\nYou are a helpful assistant for matching pat...   \n2674  \\nYou are a helpful assistant for matching pat...   \n2286  \\nYou are a helpful assistant for matching pat...   \n5273  \\nYou are a helpful assistant for matching pat...   \n774   \\nYou are a helpful assistant for matching pat...   \n3535  \\nYou are a helpful assistant for matching pat...   \n2354  \\nYou are a helpful assistant for matching pat...   \n5107  \\nYou are a helpful assistant for matching pat...   \n6010  \\nYou are a helpful assistant for matching pat...   \n\n                       exclusion_criteria_system_prompt  \\\n6131  \\nYou are a helpful assistant for matching pat...   \n2009  \\nYou are a helpful assistant for matching pat...   \n2674  \\nYou are a helpful assistant for matching pat...   \n2286  \\nYou are a helpful assistant for matching pat...   \n5273  \\nYou are a helpful assistant for matching pat...   \n774   \\nYou are a helpful assistant for matching pat...   \n3535  \\nYou are a helpful assistant for matching pat...   \n2354  \\nYou are a helpful assistant for matching pat...   \n5107  \\nYou are a helpful assistant for matching pat...   \n6010  \\nYou are a helpful assistant for matching pat...   \n\n                                            incl_prompt  \\\n6131  \\nHere is the patient note:\\n1. A 46-year-old ...   \n2009  \\nHere is the patient note:\\n1. The patient is...   \n2674  \\nHere is the patient note:\\n1. The patient is...   \n2286  \\nHere is the patient note:\\n1. The patient is...   \n5273  \\nHere is the patient note:\\n1. The patient is...   \n774   \\nHere is the patient note:\\n1. 79 yo F with m...   \n3535  \\nHere is the patient note:\\n1. This is a 44 y...   \n2354  \\nHere is the patient note:\\n1. A 32 yo woman ...   \n5107  \\nHere is the patient note:\\n1. The patient is...   \n6010  \\nHere is the patient note:\\n1. A 46-year-old ...   \n\n                                            excl_prompt  \\\n6131  \\nHere is the patient note:\\n1. A 46-year-old ...   \n2009  \\nHere is the patient note:\\n1. The patient is...   \n2674  \\nHere is the patient note:\\n1. The patient is...   \n2286  \\nHere is the patient note:\\n1. The patient is...   \n5273  \\nHere is the patient note:\\n1. The patient is...   \n774   \\nHere is the patient note:\\n1. 79 yo F with m...   \n3535  \\nHere is the patient note:\\n1. This is a 44 y...   \n2354  \\nHere is the patient note:\\n1. A 32 yo woman ...   \n5107  \\nHere is the patient note:\\n1. The patient is...   \n6010  \\nHere is the patient note:\\n1. A 46-year-old ...   \n\n                              inclusion_criteria_output  \\\n6131  \"{\\n    \\\"inclusion_criterion_1\\\": [\\\"The pati...   \n2009  \"{\\n    \\\"inclusion_criterion_1\\\": [\\\"The pati...   \n2674  \"{\\n    \\\"inclusion_criterion_1\\\": [\\\"The pati...   \n2286  \"{\\n    \\\"inclusion_criterion_1\\\": [\\\"The pati...   \n5273  \"{\\n  \\\"inclusion_criterion_1\\\": [\\\"The patien...   \n774   \"{\\n    \\\"inclusion_criterion_1\\\": [\\\"The pati...   \n3535  \"{\\n    \\\"inclusion_criterion_1\\\": [\\\"The pati...   \n2354  \"{\\n    \\\"inclusion_criterion_1\\\": [\\\"The pati...   \n5107  \"{\\n    \\\"inclusion_criterion_1\\\": [\\\"The pati...   \n6010  \"{\\n    \\\"inclusion_criterion_1\\\": [\\\"The pati...   \n\n                              exclusion_criteria_output  relevance  \n6131  \"{\\n    \\\"exclusion_criterion_1\\\": [\\\"The pati...          0  \n2009  \"{\\n    \\\"exclusion_criterion_1\\\": [\\\"Patients...          0  \n2674  \"{\\n    \\\"exclusion_criterion_1\\\": [\\\"The pati...          0  \n2286  \"{\\n\\\"exclusion_criterion_1\\\": [\\\"The patient'...          1  \n5273  \"{\\n    \\\"exclusion_criterion_1\\\": [\\\"The pati...          1  \n774   \"{\\n    \\\"exclusion_criterion_1\\\": [\\\"The pati...          1  \n3535  \"{\\n    \\\"exclusion_criterion_1\\\": [\\\"The pati...          0  \n2354  \"{\\n    \\\"exclusion_criterion_1\\\": [\\\"The pati...          2  \n5107  \"{\\n    \\\"exclusion_criterion_1\\\": [\\\"The pati...          1  \n6010  \"{\\n    \\\"exclusion_criterion_1\\\": [\\\"The pati...          1  ",
      "text/html": "<div>\n<style scoped>\n    .dataframe tbody tr th:only-of-type {\n        vertical-align: middle;\n    }\n\n    .dataframe tbody tr th {\n        vertical-align: top;\n    }\n\n    .dataframe thead th {\n        text-align: right;\n    }\n</style>\n<table border=\"1\" class=\"dataframe\">\n  <thead>\n    <tr style=\"text-align: right;\">\n      <th></th>\n      <th>inclusion_criteria_system_prompt</th>\n      <th>exclusion_criteria_system_prompt</th>\n      <th>incl_prompt</th>\n      <th>excl_prompt</th>\n      <th>inclusion_criteria_output</th>\n      <th>exclusion_criteria_output</th>\n      <th>relevance</th>\n    </tr>\n  </thead>\n  <tbody>\n    <tr>\n      <th>6131</th>\n      <td>\\nYou are a helpful assistant for matching pat...</td>\n      <td>\\nYou are a helpful assistant for matching pat...</td>\n      <td>\\nHere is the patient note:\\n1. A 46-year-old ...</td>\n      <td>\\nHere is the patient note:\\n1. A 46-year-old ...</td>\n      <td>\"{\\n    \\\"inclusion_criterion_1\\\": [\\\"The pati...</td>\n      <td>\"{\\n    \\\"exclusion_criterion_1\\\": [\\\"The pati...</td>\n      <td>0</td>\n    </tr>\n    <tr>\n      <th>2009</th>\n      <td>\\nYou are a helpful assistant for matching pat...</td>\n      <td>\\nYou are a helpful assistant for matching pat...</td>\n      <td>\\nHere is the patient note:\\n1. The patient is...</td>\n      <td>\\nHere is the patient note:\\n1. The patient is...</td>\n      <td>\"{\\n    \\\"inclusion_criterion_1\\\": [\\\"The pati...</td>\n      <td>\"{\\n    \\\"exclusion_criterion_1\\\": [\\\"Patients...</td>\n      <td>0</td>\n    </tr>\n    <tr>\n      <th>2674</th>\n      <td>\\nYou are a helpful assistant for matching pat...</td>\n      <td>\\nYou are a helpful assistant for matching pat...</td>\n      <td>\\nHere is the patient note:\\n1. The patient is...</td>\n      <td>\\nHere is the patient note:\\n1. The patient is...</td>\n      <td>\"{\\n    \\\"inclusion_criterion_1\\\": [\\\"The pati...</td>\n      <td>\"{\\n    \\\"exclusion_criterion_1\\\": [\\\"The pati...</td>\n      <td>0</td>\n    </tr>\n    <tr>\n      <th>2286</th>\n      <td>\\nYou are a helpful assistant for matching pat...</td>\n      <td>\\nYou are a helpful assistant for matching pat...</td>\n      <td>\\nHere is the patient note:\\n1. The patient is...</td>\n      <td>\\nHere is the patient note:\\n1. The patient is...</td>\n      <td>\"{\\n    \\\"inclusion_criterion_1\\\": [\\\"The pati...</td>\n      <td>\"{\\n\\\"exclusion_criterion_1\\\": [\\\"The patient'...</td>\n      <td>1</td>\n    </tr>\n    <tr>\n      <th>5273</th>\n      <td>\\nYou are a helpful assistant for matching pat...</td>\n      <td>\\nYou are a helpful assistant for matching pat...</td>\n      <td>\\nHere is the patient note:\\n1. The patient is...</td>\n      <td>\\nHere is the patient note:\\n1. The patient is...</td>\n      <td>\"{\\n  \\\"inclusion_criterion_1\\\": [\\\"The patien...</td>\n      <td>\"{\\n    \\\"exclusion_criterion_1\\\": [\\\"The pati...</td>\n      <td>1</td>\n    </tr>\n    <tr>\n      <th>774</th>\n      <td>\\nYou are a helpful assistant for matching pat...</td>\n      <td>\\nYou are a helpful assistant for matching pat...</td>\n      <td>\\nHere is the patient note:\\n1. 79 yo F with m...</td>\n      <td>\\nHere is the patient note:\\n1. 79 yo F with m...</td>\n      <td>\"{\\n    \\\"inclusion_criterion_1\\\": [\\\"The pati...</td>\n      <td>\"{\\n    \\\"exclusion_criterion_1\\\": [\\\"The pati...</td>\n      <td>1</td>\n    </tr>\n    <tr>\n      <th>3535</th>\n      <td>\\nYou are a helpful assistant for matching pat...</td>\n      <td>\\nYou are a helpful assistant for matching pat...</td>\n      <td>\\nHere is the patient note:\\n1. This is a 44 y...</td>\n      <td>\\nHere is the patient note:\\n1. This is a 44 y...</td>\n      <td>\"{\\n    \\\"inclusion_criterion_1\\\": [\\\"The pati...</td>\n      <td>\"{\\n    \\\"exclusion_criterion_1\\\": [\\\"The pati...</td>\n      <td>0</td>\n    </tr>\n    <tr>\n      <th>2354</th>\n      <td>\\nYou are a helpful assistant for matching pat...</td>\n      <td>\\nYou are a helpful assistant for matching pat...</td>\n      <td>\\nHere is the patient note:\\n1. A 32 yo woman ...</td>\n      <td>\\nHere is the patient note:\\n1. A 32 yo woman ...</td>\n      <td>\"{\\n    \\\"inclusion_criterion_1\\\": [\\\"The pati...</td>\n      <td>\"{\\n    \\\"exclusion_criterion_1\\\": [\\\"The pati...</td>\n      <td>2</td>\n    </tr>\n    <tr>\n      <th>5107</th>\n      <td>\\nYou are a helpful assistant for matching pat...</td>\n      <td>\\nYou are a helpful assistant for matching pat...</td>\n      <td>\\nHere is the patient note:\\n1. The patient is...</td>\n      <td>\\nHere is the patient note:\\n1. The patient is...</td>\n      <td>\"{\\n    \\\"inclusion_criterion_1\\\": [\\\"The pati...</td>\n      <td>\"{\\n    \\\"exclusion_criterion_1\\\": [\\\"The pati...</td>\n      <td>1</td>\n    </tr>\n    <tr>\n      <th>6010</th>\n      <td>\\nYou are a helpful assistant for matching pat...</td>\n      <td>\\nYou are a helpful assistant for matching pat...</td>\n      <td>\\nHere is the patient note:\\n1. A 46-year-old ...</td>\n      <td>\\nHere is the patient note:\\n1. A 46-year-old ...</td>\n      <td>\"{\\n    \\\"inclusion_criterion_1\\\": [\\\"The pati...</td>\n      <td>\"{\\n    \\\"exclusion_criterion_1\\\": [\\\"The pati...</td>\n      <td>1</td>\n    </tr>\n  </tbody>\n</table>\n</div>"
     },
     "execution_count": 16,
     "metadata": {},
     "output_type": "execute_result"
    }
   ],
   "source": [
    "df.sample(10)"
   ],
   "metadata": {
    "collapsed": false,
    "ExecuteTime": {
     "end_time": "2024-04-26T19:04:03.598655Z",
     "start_time": "2024-04-26T19:04:03.570724Z"
    }
   },
   "id": "4321fc0cba54d419"
  },
  {
   "cell_type": "code",
   "execution_count": 17,
   "outputs": [
    {
     "data": {
      "text/plain": "relevance\n2    941\n1    751\n0    610\nName: count, dtype: int64"
     },
     "execution_count": 17,
     "metadata": {},
     "output_type": "execute_result"
    }
   ],
   "source": [
    "df_valid_json_conditions['relevance'].value_counts()"
   ],
   "metadata": {
    "collapsed": false,
    "ExecuteTime": {
     "end_time": "2024-04-26T19:04:12.534237Z",
     "start_time": "2024-04-26T19:04:12.527155Z"
    }
   },
   "id": "1c4ca3bc20a19a20"
  },
  {
   "cell_type": "code",
   "execution_count": 18,
   "outputs": [],
   "source": [
    "df = pd.DataFrame(df_valid_json_conditions)"
   ],
   "metadata": {
    "collapsed": false,
    "ExecuteTime": {
     "end_time": "2024-04-26T19:04:15.999159Z",
     "start_time": "2024-04-26T19:04:15.977685Z"
    }
   },
   "id": "f048159d1e39d1c5"
  },
  {
   "cell_type": "code",
   "execution_count": 20,
   "outputs": [],
   "source": [
    "df_incl_crit_instructions = pd.DataFrame()\n",
    "df_excl_crit_instructions = pd.DataFrame()\n",
    "\n",
    "df_incl_crit_instructions[['system', 'user', 'assistant']] = df[['inclusion_criteria_system_prompt', 'incl_prompt', 'inclusion_criteria_output']]\n",
    "df_excl_crit_instructions[['system', 'user', 'assistant']] = df[['exclusion_criteria_system_prompt', 'excl_prompt', 'exclusion_criteria_output']]"
   ],
   "metadata": {
    "collapsed": false,
    "ExecuteTime": {
     "end_time": "2024-04-26T19:04:30.384813Z",
     "start_time": "2024-04-26T19:04:30.370218Z"
    }
   },
   "id": "f559d8a2583ecee8"
  },
  {
   "cell_type": "code",
   "execution_count": 21,
   "outputs": [],
   "source": [
    "df_incl = pd.DataFrame(df_incl_crit_instructions)\n",
    "\n",
    "df_incl['text_length'] = df_incl[['system', 'user', 'assistant']].apply(lambda x: x.str.len().sum(), axis=1)\n",
    "\n",
    "df_incl['length_bin'] = pd.cut(df_incl['text_length'], bins=4)"
   ],
   "metadata": {
    "collapsed": false,
    "ExecuteTime": {
     "end_time": "2024-04-26T19:04:31.766311Z",
     "start_time": "2024-04-26T19:04:31.655119Z"
    }
   },
   "id": "ff1e27d74c9f6f4e"
  },
  {
   "cell_type": "code",
   "execution_count": 22,
   "outputs": [
    {
     "data": {
      "text/plain": "length_bin\n(3553.75, 4462.5]      1180\n(2641.365, 3553.75]     786\n(4462.5, 5371.25]       314\n(5371.25, 6280.0]        22\nName: count, dtype: int64"
     },
     "execution_count": 22,
     "metadata": {},
     "output_type": "execute_result"
    }
   ],
   "source": [
    "df_incl['length_bin'].value_counts()"
   ],
   "metadata": {
    "collapsed": false,
    "ExecuteTime": {
     "end_time": "2024-04-26T19:04:34.042814Z",
     "start_time": "2024-04-26T19:04:34.026524Z"
    }
   },
   "id": "30e2da4c68efb9ce"
  },
  {
   "cell_type": "code",
   "execution_count": 23,
   "outputs": [],
   "source": [
    "df_excl = pd.DataFrame(df_excl_crit_instructions)\n",
    "\n",
    "df_excl['text_length'] = df_excl[['system', 'user', 'assistant']].apply(lambda x: x.str.len().sum(), axis=1)\n",
    "\n",
    "df_excl['length_bin'] = pd.cut(df_excl['text_length'], bins=4)"
   ],
   "metadata": {
    "collapsed": false,
    "ExecuteTime": {
     "end_time": "2024-04-26T19:04:37.178449Z",
     "start_time": "2024-04-26T19:04:37.066743Z"
    }
   },
   "id": "29121b5d0cf51c20"
  },
  {
   "cell_type": "code",
   "execution_count": 24,
   "outputs": [
    {
     "data": {
      "text/plain": "length_bin\n(2675.129, 3897.75]    1078\n(3897.75, 5115.5]       977\n(5115.5, 6333.25]       235\n(6333.25, 7551.0]        12\nName: count, dtype: int64"
     },
     "execution_count": 24,
     "metadata": {},
     "output_type": "execute_result"
    }
   ],
   "source": [
    "df_excl['length_bin'].value_counts()"
   ],
   "metadata": {
    "collapsed": false,
    "ExecuteTime": {
     "end_time": "2024-04-26T19:04:38.258019Z",
     "start_time": "2024-04-26T19:04:38.243175Z"
    }
   },
   "id": "9fdfdf42838f2cb4"
  },
  {
   "cell_type": "code",
   "execution_count": 25,
   "outputs": [],
   "source": [
    "import matplotlib.pyplot as plt\n",
    "\n",
    "def plot_length_distribution(dataframe, column_name):\n",
    "    hist_data = dataframe[column_name].value_counts()\n",
    "\n",
    "    plt.figure(figsize=(4, 4))\n",
    "    plt.pie(hist_data, labels=hist_data.index.astype(str), autopct='%1.1f%%', startangle=140)\n",
    "    \n",
    "    plt.title('Length distribution')\n",
    "    \n",
    "    plt.show()"
   ],
   "metadata": {
    "collapsed": false,
    "ExecuteTime": {
     "end_time": "2024-04-26T19:04:45.709265Z",
     "start_time": "2024-04-26T19:04:45.442432Z"
    }
   },
   "id": "99390645a2d5a47a"
  },
  {
   "cell_type": "code",
   "execution_count": 26,
   "outputs": [
    {
     "data": {
      "text/plain": "<Figure size 400x400 with 1 Axes>",
      "image/png": "[encoded data removed]"
     },
     "metadata": {},
     "output_type": "display_data"
    }
   ],
   "source": [
    "plot_length_distribution(df_incl, 'length_bin')"
   ],
   "metadata": {
    "collapsed": false,
    "ExecuteTime": {
     "end_time": "2024-04-26T19:04:46.634339Z",
     "start_time": "2024-04-26T19:04:46.544020Z"
    }
   },
   "id": "fe8df3411cb2e856"
  },
  {
   "cell_type": "code",
   "execution_count": 27,
   "outputs": [
    {
     "data": {
      "text/plain": "<Figure size 400x400 with 1 Axes>",
      "image/png": "[encoded data removed]"
     },
     "metadata": {},
     "output_type": "display_data"
    }
   ],
   "source": [
    "plot_length_distribution(df_excl, 'length_bin')"
   ],
   "metadata": {
    "collapsed": false,
    "ExecuteTime": {
     "end_time": "2024-04-26T19:04:49.125485Z",
     "start_time": "2024-04-26T19:04:49.086445Z"
    }
   },
   "id": "2bf5eadd490442cb"
  },
  {
   "cell_type": "code",
   "execution_count": 28,
   "outputs": [],
   "source": [
    "from sklearn.model_selection import train_test_split\n",
    "\n",
    "train_incl_set, train_incl_sample_set = train_test_split(df_incl, test_size=0.212, stratify=df_incl['length_bin'], random_state=42)\n",
    "\n",
    "train_excl_set, train_excl_sample_set = train_test_split(df_excl, test_size=0.212, stratify=df_excl['length_bin'], random_state=42)"
   ],
   "metadata": {
    "collapsed": false,
    "ExecuteTime": {
     "end_time": "2024-04-26T19:04:52.756608Z",
     "start_time": "2024-04-26T19:04:52.118498Z"
    }
   },
   "id": "53efedd5f47efbb"
  },
  {
   "cell_type": "code",
   "execution_count": 29,
   "outputs": [
    {
     "data": {
      "text/plain": "(489, 5)"
     },
     "execution_count": 29,
     "metadata": {},
     "output_type": "execute_result"
    }
   ],
   "source": [
    "train_incl_sample_set.shape"
   ],
   "metadata": {
    "collapsed": false,
    "ExecuteTime": {
     "end_time": "2024-04-26T19:04:54.444832Z",
     "start_time": "2024-04-26T19:04:54.411269Z"
    }
   },
   "id": "fc78d645cac0d407"
  },
  {
   "cell_type": "code",
   "execution_count": 30,
   "outputs": [
    {
     "data": {
      "text/plain": "(489, 5)"
     },
     "execution_count": 30,
     "metadata": {},
     "output_type": "execute_result"
    }
   ],
   "source": [
    "train_excl_sample_set.shape"
   ],
   "metadata": {
    "collapsed": false,
    "ExecuteTime": {
     "end_time": "2024-04-26T19:04:55.527785Z",
     "start_time": "2024-04-26T19:04:55.512454Z"
    }
   },
   "id": "62345aa0bdc8b5f7"
  },
  {
   "cell_type": "code",
   "execution_count": 31,
   "outputs": [
    {
     "data": {
      "text/plain": "<Figure size 400x400 with 1 Axes>",
      "image/png": "[encoded data removed]"
     },
     "metadata": {},
     "output_type": "display_data"
    }
   ],
   "source": [
    "plot_length_distribution(train_incl_sample_set, 'length_bin')"
   ],
   "metadata": {
    "collapsed": false,
    "ExecuteTime": {
     "end_time": "2024-04-26T19:04:57.706708Z",
     "start_time": "2024-04-26T19:04:57.651875Z"
    }
   },
   "id": "817a1f464ad11911"
  },
  {
   "cell_type": "code",
   "execution_count": 32,
   "outputs": [
    {
     "data": {
      "text/plain": "<Figure size 400x400 with 1 Axes>",
      "image/png": "[encoded data removed]"
     },
     "metadata": {},
     "output_type": "display_data"
    }
   ],
   "source": [
    "plot_length_distribution(train_excl_sample_set, 'length_bin')"
   ],
   "metadata": {
    "collapsed": false,
    "ExecuteTime": {
     "end_time": "2024-04-26T19:04:59.444777Z",
     "start_time": "2024-04-26T19:04:59.399218Z"
    }
   },
   "id": "8fad9ddda6858c34"
  },
  {
   "cell_type": "code",
   "execution_count": 33,
   "outputs": [],
   "source": [
    "train_incl_sample_set.drop(columns=['text_length', 'length_bin'], inplace=True)\n",
    "train_excl_sample_set.drop(columns=['text_length', 'length_bin'], inplace=True)"
   ],
   "metadata": {
    "collapsed": false,
    "ExecuteTime": {
     "end_time": "2024-04-26T19:05:02.305156Z",
     "start_time": "2024-04-26T19:05:02.297170Z"
    }
   },
   "id": "cc6cd13b223e3b57"
  },
  {
   "cell_type": "code",
   "execution_count": 34,
   "outputs": [],
   "source": [
    "df_train_merged = pd.concat([train_incl_sample_set, train_excl_sample_set], axis=0)"
   ],
   "metadata": {
    "collapsed": false,
    "ExecuteTime": {
     "end_time": "2024-04-26T19:05:03.472031Z",
     "start_time": "2024-04-26T19:05:03.458882Z"
    }
   },
   "id": "11e54340862d7ec2"
  },
  {
   "cell_type": "code",
   "execution_count": 35,
   "outputs": [
    {
     "data": {
      "text/plain": "(978, 3)"
     },
     "execution_count": 35,
     "metadata": {},
     "output_type": "execute_result"
    }
   ],
   "source": [
    "df_train_merged.shape"
   ],
   "metadata": {
    "collapsed": false,
    "ExecuteTime": {
     "end_time": "2024-04-26T19:05:04.402565Z",
     "start_time": "2024-04-26T19:05:04.385536Z"
    }
   },
   "id": "817ce7b17cb5f0b5"
  },
  {
   "cell_type": "code",
   "execution_count": 36,
   "outputs": [
    {
     "data": {
      "text/plain": "                                                 system  \\\n2233  \\nYou are a helpful assistant for matching pat...   \n4185  \\nYou are a helpful assistant for matching pat...   \n6499  \\nYou are a helpful assistant for matching pat...   \n4430  \\nYou are a helpful assistant for matching pat...   \n5328  \\nYou are a helpful assistant for matching pat...   \n2561  \\nYou are a helpful assistant for matching pat...   \n6614  \\nYou are a helpful assistant for matching pat...   \n357   \\nYou are a helpful assistant for matching pat...   \n3970  \\nYou are a helpful assistant for matching pat...   \n6804  \\nYou are a helpful assistant for matching pat...   \n\n                                                   user  \\\n2233  \\nHere is the patient note:\\n1. The patient is...   \n4185  \\nHere is the patient note:\\n1. A 62-year-old ...   \n6499  \\nHere is the patient note:\\n1. 60 yo M with H...   \n4430  \\nHere is the patient note:\\n1. A 12 year old ...   \n5328  \\nHere is the patient note:\\n1. The patient is...   \n2561  \\nHere is the patient note:\\n1. The patient is...   \n6614  \\nHere is the patient note:\\n1. 60 yo M with H...   \n357   \\nHere is the patient note:\\n1. 70 y/o with CO...   \n3970  \\nHere is the patient note:\\n1. The patient is...   \n6804  \\nHere is the patient note:\\n1. The patient is...   \n\n                                              assistant  \n2233  \"{\\n    \\\"inclusion_criterion_1\\\": [\\\"The pati...  \n4185  \"{\\n    \\\"inclusion_criterion_1\\\": [\\\"The pati...  \n6499  \"{\\n    \\\"exclusion_criterion_1\\\": [\\n        ...  \n4430  \"{\\n    \\\"inclusion_criterion_1\\\": [\\\"The pati...  \n5328  \"{\\n    \\\"inclusion_criterion_1\\\": [\\\"The pati...  \n2561  \"{\\n    \\\"inclusion_criterion_1\\\": [\\\"The pati...  \n6614  \"{\\n    \\\"inclusion_criterion_1\\\": [\\\"The pati...  \n357   \"{\\n  \\\"inclusion_criterion_1\\\": [\\\"Patient me...  \n3970  \"{\\n    \\\"inclusion_criterion_1\\\": [\\\"The pati...  \n6804  \"{\\n    \\\"inclusion_criterion_1\\\": [\\\"Patient ...  ",
      "text/html": "<div>\n<style scoped>\n    .dataframe tbody tr th:only-of-type {\n        vertical-align: middle;\n    }\n\n    .dataframe tbody tr th {\n        vertical-align: top;\n    }\n\n    .dataframe thead th {\n        text-align: right;\n    }\n</style>\n<table border=\"1\" class=\"dataframe\">\n  <thead>\n    <tr style=\"text-align: right;\">\n      <th></th>\n      <th>system</th>\n      <th>user</th>\n      <th>assistant</th>\n    </tr>\n  </thead>\n  <tbody>\n    <tr>\n      <th>2233</th>\n      <td>\\nYou are a helpful assistant for matching pat...</td>\n      <td>\\nHere is the patient note:\\n1. The patient is...</td>\n      <td>\"{\\n    \\\"inclusion_criterion_1\\\": [\\\"The pati...</td>\n    </tr>\n    <tr>\n      <th>4185</th>\n      <td>\\nYou are a helpful assistant for matching pat...</td>\n      <td>\\nHere is the patient note:\\n1. A 62-year-old ...</td>\n      <td>\"{\\n    \\\"inclusion_criterion_1\\\": [\\\"The pati...</td>\n    </tr>\n    <tr>\n      <th>6499</th>\n      <td>\\nYou are a helpful assistant for matching pat...</td>\n      <td>\\nHere is the patient note:\\n1. 60 yo M with H...</td>\n      <td>\"{\\n    \\\"exclusion_criterion_1\\\": [\\n        ...</td>\n    </tr>\n    <tr>\n      <th>4430</th>\n      <td>\\nYou are a helpful assistant for matching pat...</td>\n      <td>\\nHere is the patient note:\\n1. A 12 year old ...</td>\n      <td>\"{\\n    \\\"inclusion_criterion_1\\\": [\\\"The pati...</td>\n    </tr>\n    <tr>\n      <th>5328</th>\n      <td>\\nYou are a helpful assistant for matching pat...</td>\n      <td>\\nHere is the patient note:\\n1. The patient is...</td>\n      <td>\"{\\n    \\\"inclusion_criterion_1\\\": [\\\"The pati...</td>\n    </tr>\n    <tr>\n      <th>2561</th>\n      <td>\\nYou are a helpful assistant for matching pat...</td>\n      <td>\\nHere is the patient note:\\n1. The patient is...</td>\n      <td>\"{\\n    \\\"inclusion_criterion_1\\\": [\\\"The pati...</td>\n    </tr>\n    <tr>\n      <th>6614</th>\n      <td>\\nYou are a helpful assistant for matching pat...</td>\n      <td>\\nHere is the patient note:\\n1. 60 yo M with H...</td>\n      <td>\"{\\n    \\\"inclusion_criterion_1\\\": [\\\"The pati...</td>\n    </tr>\n    <tr>\n      <th>357</th>\n      <td>\\nYou are a helpful assistant for matching pat...</td>\n      <td>\\nHere is the patient note:\\n1. 70 y/o with CO...</td>\n      <td>\"{\\n  \\\"inclusion_criterion_1\\\": [\\\"Patient me...</td>\n    </tr>\n    <tr>\n      <th>3970</th>\n      <td>\\nYou are a helpful assistant for matching pat...</td>\n      <td>\\nHere is the patient note:\\n1. The patient is...</td>\n      <td>\"{\\n    \\\"inclusion_criterion_1\\\": [\\\"The pati...</td>\n    </tr>\n    <tr>\n      <th>6804</th>\n      <td>\\nYou are a helpful assistant for matching pat...</td>\n      <td>\\nHere is the patient note:\\n1. The patient is...</td>\n      <td>\"{\\n    \\\"inclusion_criterion_1\\\": [\\\"Patient ...</td>\n    </tr>\n  </tbody>\n</table>\n</div>"
     },
     "execution_count": 36,
     "metadata": {},
     "output_type": "execute_result"
    }
   ],
   "source": [
    "df_train_merged.sample(10)"
   ],
   "metadata": {
    "collapsed": false,
    "ExecuteTime": {
     "end_time": "2024-04-26T19:05:06.629086Z",
     "start_time": "2024-04-26T19:05:06.615598Z"
    }
   },
   "id": "b9a07dcbc023ef68"
  },
  {
   "cell_type": "code",
   "execution_count": 235,
   "outputs": [],
   "source": [
    "df_processed = pd.read_csv('processed_output.csv')"
   ],
   "metadata": {
    "collapsed": false,
    "ExecuteTime": {
     "end_time": "2024-04-18T20:04:16.849620Z",
     "start_time": "2024-04-18T20:04:16.822061Z"
    }
   },
   "id": "8501ef20b349c13f"
  },
  {
   "cell_type": "code",
   "execution_count": 236,
   "outputs": [
    {
     "data": {
      "text/plain": "                                               system  \\\n18  \\nYou are a helpful assistant for matching pat...   \n23  \\nYou are a helpful assistant for matching pat...   \n14  \\nYou are a helpful assistant for matching pat...   \n10  \\nYou are a helpful assistant for matching pat...   \n15  \\nYou are a helpful assistant for matching pat...   \n13  \\nYou are a helpful assistant for matching pat...   \n9   \\nYou are a helpful assistant for matching pat...   \n5   \\nYou are a helpful assistant for matching pat...   \n25  \\nYou are a helpful assistant for matching pat...   \n0   \\nYou are a helpful assistant for matching pat...   \n\n                                                 user  \\\n18  Here is the patient note:\\n1. The patient is a...   \n23  Here is the patient note:\\n1. Patient is a 55y...   \n14  Here is the patient note:\\n1. The patient is a...   \n10  Here is the patient note:\\n1. The patient is a...   \n15  Here is the patient note:\\n1. The patient is a...   \n13  Here is the patient note:\\n1. The patient is a...   \n9   Here is the patient note:\\n1. The patient is a...   \n5   Here is the patient note:\\n1. The patient is a...   \n25  Here is the patient note:\\n1. The patient is a...   \n0   Here is the patient note:\\n1. A 39-year-old ma...   \n\n                                            assistant  \n18  \"{\\n    \\\"inclusion_criterion_1\\\": [\\\"The pati...  \n23  \"{\\n    \\\"inclusion_criterion_1\\\": [\\\"The pati...  \n14  \"{\\n    \\\"inclusion_criterion_1\\\": [\\\"The pati...  \n10  \"{\\n    \\\"inclusion_criterion_1\\\": [\\\"The pati...  \n15  \"{\\n    \\\"inclusion_criterion_1\\\": [\\\"The pati...  \n13  \"{\\n    \\\"inclusion_criterion_1\\\": [\\\"The pati...  \n9   \"{\\n    \\\"inclusion_criterion_1\\\": [\\\"The pati...  \n5   \"{\\n    \\\"inclusion_criterion_1\\\": [\\\"The pati...  \n25  \"{\\n    \\\"inclusion_criterion_1\\\": [\\\"The pati...  \n0   \"{\\n    \\\"inclusion_criterion_1\\\": [\\\"The pati...  ",
      "text/html": "<div>\n<style scoped>\n    .dataframe tbody tr th:only-of-type {\n        vertical-align: middle;\n    }\n\n    .dataframe tbody tr th {\n        vertical-align: top;\n    }\n\n    .dataframe thead th {\n        text-align: right;\n    }\n</style>\n<table border=\"1\" class=\"dataframe\">\n  <thead>\n    <tr style=\"text-align: right;\">\n      <th></th>\n      <th>system</th>\n      <th>user</th>\n      <th>assistant</th>\n    </tr>\n  </thead>\n  <tbody>\n    <tr>\n      <th>18</th>\n      <td>\\nYou are a helpful assistant for matching pat...</td>\n      <td>Here is the patient note:\\n1. The patient is a...</td>\n      <td>\"{\\n    \\\"inclusion_criterion_1\\\": [\\\"The pati...</td>\n    </tr>\n    <tr>\n      <th>23</th>\n      <td>\\nYou are a helpful assistant for matching pat...</td>\n      <td>Here is the patient note:\\n1. Patient is a 55y...</td>\n      <td>\"{\\n    \\\"inclusion_criterion_1\\\": [\\\"The pati...</td>\n    </tr>\n    <tr>\n      <th>14</th>\n      <td>\\nYou are a helpful assistant for matching pat...</td>\n      <td>Here is the patient note:\\n1. The patient is a...</td>\n      <td>\"{\\n    \\\"inclusion_criterion_1\\\": [\\\"The pati...</td>\n    </tr>\n    <tr>\n      <th>10</th>\n      <td>\\nYou are a helpful assistant for matching pat...</td>\n      <td>Here is the patient note:\\n1. The patient is a...</td>\n      <td>\"{\\n    \\\"inclusion_criterion_1\\\": [\\\"The pati...</td>\n    </tr>\n    <tr>\n      <th>15</th>\n      <td>\\nYou are a helpful assistant for matching pat...</td>\n      <td>Here is the patient note:\\n1. The patient is a...</td>\n      <td>\"{\\n    \\\"inclusion_criterion_1\\\": [\\\"The pati...</td>\n    </tr>\n    <tr>\n      <th>13</th>\n      <td>\\nYou are a helpful assistant for matching pat...</td>\n      <td>Here is the patient note:\\n1. The patient is a...</td>\n      <td>\"{\\n    \\\"inclusion_criterion_1\\\": [\\\"The pati...</td>\n    </tr>\n    <tr>\n      <th>9</th>\n      <td>\\nYou are a helpful assistant for matching pat...</td>\n      <td>Here is the patient note:\\n1. The patient is a...</td>\n      <td>\"{\\n    \\\"inclusion_criterion_1\\\": [\\\"The pati...</td>\n    </tr>\n    <tr>\n      <th>5</th>\n      <td>\\nYou are a helpful assistant for matching pat...</td>\n      <td>Here is the patient note:\\n1. The patient is a...</td>\n      <td>\"{\\n    \\\"inclusion_criterion_1\\\": [\\\"The pati...</td>\n    </tr>\n    <tr>\n      <th>25</th>\n      <td>\\nYou are a helpful assistant for matching pat...</td>\n      <td>Here is the patient note:\\n1. The patient is a...</td>\n      <td>\"{\\n    \\\"inclusion_criterion_1\\\": [\\\"The pati...</td>\n    </tr>\n    <tr>\n      <th>0</th>\n      <td>\\nYou are a helpful assistant for matching pat...</td>\n      <td>Here is the patient note:\\n1. A 39-year-old ma...</td>\n      <td>\"{\\n    \\\"inclusion_criterion_1\\\": [\\\"The pati...</td>\n    </tr>\n  </tbody>\n</table>\n</div>"
     },
     "execution_count": 236,
     "metadata": {},
     "output_type": "execute_result"
    }
   ],
   "source": [
    "df_processed.sample(10)"
   ],
   "metadata": {
    "collapsed": false,
    "ExecuteTime": {
     "end_time": "2024-04-18T20:04:18.643090Z",
     "start_time": "2024-04-18T20:04:18.617966Z"
    }
   },
   "id": "2d36e5eb6222ab2"
  },
  {
   "cell_type": "code",
   "execution_count": 283,
   "outputs": [],
   "source": [
    "df_train_merged = pd.concat([df_train_merged, df_processed], axis=0)"
   ],
   "metadata": {
    "collapsed": false,
    "ExecuteTime": {
     "end_time": "2024-04-18T21:37:57.685832Z",
     "start_time": "2024-04-18T21:37:57.657392Z"
    }
   },
   "id": "967ddaff34955954"
  },
  {
   "cell_type": "code",
   "execution_count": 284,
   "outputs": [
    {
     "data": {
      "text/plain": "                                                 system  \\\n5743  \\nYou are a helpful assistant for matching pat...   \n6427  \\nYou are a helpful assistant for matching pat...   \n918   \\nYou are a helpful assistant for matching pat...   \n4647  \\nYou are a helpful assistant for matching pat...   \n4     \\nYou are a helpful assistant for matching pat...   \n7370  \\nYou are a helpful assistant for matching pat...   \n3451  \\nYou are a helpful assistant for matching pat...   \n910   \\nYou are a helpful assistant for matching pat...   \n246   \\nYou are a helpful assistant for matching pat...   \n6529  \\nYou are a helpful assistant for matching pat...   \n\n                                                   user  \\\n5743  \\nHere is the patient note:\\n1. The patient is...   \n6427  \\nHere is the patient note:\\n1. A 16-year-old ...   \n918   \\nHere is the patient note:\\n1. 64yo woman wit...   \n4647  \\nHere is the patient note:\\n1. The patients i...   \n4     Here is the patient note:\\n1. The patient is a...   \n7370  \\nHere is the patient note:\\n1. This is a 57-y...   \n3451  \\nHere is the patient note:\\n1. A 3-day-old As...   \n910   \\nHere is the patient note:\\n1. 64yo woman wit...   \n246   \\nHere is the patient note:\\n1. 70 y/o with CO...   \n6529  \\nHere is the patient note:\\n1. 60 yo M with H...   \n\n                                              assistant  \n5743  \"{\\n    \\\"inclusion_criterion_1\\\": [\\\"The pati...  \n6427  \"{\\n    \\\"inclusion_criterion_1\\\": [\\\"The pati...  \n918   \"{\\n    \\\"inclusion_criterion_1\\\": [\\\"The pati...  \n4647  \"{\\n    \\\"inclusion_criterion_1\\\": [\\\"The pati...  \n4     \"{\\n    \\\"inclusion_criterion_1\\\": [\\\"The pati...  \n7370  \"{\\n    \\\"exclusion_criterion_1\\\": [\\\"The pati...  \n3451  \"{\\n    \\\"inclusion_criterion_1\\\": [\\\"The pati...  \n910   \"{\\n    \\\"exclusion_criterion_1\\\": [\\\"The pati...  \n246   \"{\\n\\\"exclusion_criterion_1\\\": [\\\"Patient is n...  \n6529  \"{\\n    \\\"exclusion_criterion_1\\\": [\\\"The pati...  ",
      "text/html": "<div>\n<style scoped>\n    .dataframe tbody tr th:only-of-type {\n        vertical-align: middle;\n    }\n\n    .dataframe tbody tr th {\n        vertical-align: top;\n    }\n\n    .dataframe thead th {\n        text-align: right;\n    }\n</style>\n<table border=\"1\" class=\"dataframe\">\n  <thead>\n    <tr style=\"text-align: right;\">\n      <th></th>\n      <th>system</th>\n      <th>user</th>\n      <th>assistant</th>\n    </tr>\n  </thead>\n  <tbody>\n    <tr>\n      <th>5743</th>\n      <td>\\nYou are a helpful assistant for matching pat...</td>\n      <td>\\nHere is the patient note:\\n1. The patient is...</td>\n      <td>\"{\\n    \\\"inclusion_criterion_1\\\": [\\\"The pati...</td>\n    </tr>\n    <tr>\n      <th>6427</th>\n      <td>\\nYou are a helpful assistant for matching pat...</td>\n      <td>\\nHere is the patient note:\\n1. A 16-year-old ...</td>\n      <td>\"{\\n    \\\"inclusion_criterion_1\\\": [\\\"The pati...</td>\n    </tr>\n    <tr>\n      <th>918</th>\n      <td>\\nYou are a helpful assistant for matching pat...</td>\n      <td>\\nHere is the patient note:\\n1. 64yo woman wit...</td>\n      <td>\"{\\n    \\\"inclusion_criterion_1\\\": [\\\"The pati...</td>\n    </tr>\n    <tr>\n      <th>4647</th>\n      <td>\\nYou are a helpful assistant for matching pat...</td>\n      <td>\\nHere is the patient note:\\n1. The patients i...</td>\n      <td>\"{\\n    \\\"inclusion_criterion_1\\\": [\\\"The pati...</td>\n    </tr>\n    <tr>\n      <th>4</th>\n      <td>\\nYou are a helpful assistant for matching pat...</td>\n      <td>Here is the patient note:\\n1. The patient is a...</td>\n      <td>\"{\\n    \\\"inclusion_criterion_1\\\": [\\\"The pati...</td>\n    </tr>\n    <tr>\n      <th>7370</th>\n      <td>\\nYou are a helpful assistant for matching pat...</td>\n      <td>\\nHere is the patient note:\\n1. This is a 57-y...</td>\n      <td>\"{\\n    \\\"exclusion_criterion_1\\\": [\\\"The pati...</td>\n    </tr>\n    <tr>\n      <th>3451</th>\n      <td>\\nYou are a helpful assistant for matching pat...</td>\n      <td>\\nHere is the patient note:\\n1. A 3-day-old As...</td>\n      <td>\"{\\n    \\\"inclusion_criterion_1\\\": [\\\"The pati...</td>\n    </tr>\n    <tr>\n      <th>910</th>\n      <td>\\nYou are a helpful assistant for matching pat...</td>\n      <td>\\nHere is the patient note:\\n1. 64yo woman wit...</td>\n      <td>\"{\\n    \\\"exclusion_criterion_1\\\": [\\\"The pati...</td>\n    </tr>\n    <tr>\n      <th>246</th>\n      <td>\\nYou are a helpful assistant for matching pat...</td>\n      <td>\\nHere is the patient note:\\n1. 70 y/o with CO...</td>\n      <td>\"{\\n\\\"exclusion_criterion_1\\\": [\\\"Patient is n...</td>\n    </tr>\n    <tr>\n      <th>6529</th>\n      <td>\\nYou are a helpful assistant for matching pat...</td>\n      <td>\\nHere is the patient note:\\n1. 60 yo M with H...</td>\n      <td>\"{\\n    \\\"exclusion_criterion_1\\\": [\\\"The pati...</td>\n    </tr>\n  </tbody>\n</table>\n</div>"
     },
     "execution_count": 284,
     "metadata": {},
     "output_type": "execute_result"
    }
   ],
   "source": [
    "df_train_merged.sample(10)"
   ],
   "metadata": {
    "collapsed": false,
    "ExecuteTime": {
     "end_time": "2024-04-18T21:37:59.126270Z",
     "start_time": "2024-04-18T21:37:59.089529Z"
    }
   },
   "id": "dbf19ba1a1c45d1b"
  },
  {
   "cell_type": "code",
   "execution_count": 285,
   "outputs": [],
   "source": [
    "df_train_merged['assistant'] = df_train_merged['assistant'].apply(json.loads)"
   ],
   "metadata": {
    "collapsed": false,
    "ExecuteTime": {
     "end_time": "2024-04-18T21:38:01.637889Z",
     "start_time": "2024-04-18T21:38:01.626176Z"
    }
   },
   "id": "342e6c9486fd49ca"
  },
  {
   "cell_type": "code",
   "execution_count": 286,
   "outputs": [
    {
     "data": {
      "text/plain": "                                                 system  \\\n3374  \\nYou are a helpful assistant for matching pat...   \n3737  \\nYou are a helpful assistant for matching pat...   \n2177  \\nYou are a helpful assistant for matching pat...   \n2291  \\nYou are a helpful assistant for matching pat...   \n1661  \\nYou are a helpful assistant for matching pat...   \n...                                                 ...   \n21    \\nYou are a helpful assistant for matching pat...   \n22    \\nYou are a helpful assistant for matching pat...   \n23    \\nYou are a helpful assistant for matching pat...   \n24    \\nYou are a helpful assistant for matching pat...   \n25    \\nYou are a helpful assistant for matching pat...   \n\n                                                   user  \\\n3374  \\nHere is the patient note:\\n1. The patient is...   \n3737  \\nHere is the patient note:\\n1. The patient is...   \n2177  \\nHere is the patient note:\\n1. The patient is...   \n2291  \\nHere is the patient note:\\n1. The patient is...   \n1661  \\nHere is the patient note:\\n1. The patient is...   \n...                                                 ...   \n21    Here is the patient note:\\n1. Patient is a 55y...   \n22    Here is the patient note:\\n1. Patient is a 55y...   \n23    Here is the patient note:\\n1. Patient is a 55y...   \n24    Here is the patient note:\\n1. The patient is a...   \n25    Here is the patient note:\\n1. The patient is a...   \n\n                                              assistant  \n3374  {\\n    \"inclusion_criterion_1\": [\"The patient ...  \n3737  {\\n    \"inclusion_criterion_1\": [\"The patient ...  \n2177  {\\n\"inclusion_criterion_1\": [\"The patient is 2...  \n2291  {\\n    \"inclusion_criterion_1\": [\"The patient ...  \n1661  {\\n    \"inclusion_criterion_1\": [\"The patient ...  \n...                                                 ...  \n21    {\\n    \"inclusion_criterion_1\": [\"The patient ...  \n22    {\\n    \"inclusion_criterion_1\": [\"The patient ...  \n23    {\\n    \"inclusion_criterion_1\": [\"The patient ...  \n24    {\\n    \"inclusion_criterion_1\": [\"The patient'...  \n25    {\\n    \"inclusion_criterion_1\": [\"The patient'...  \n\n[1004 rows x 3 columns]",
      "text/html": "<div>\n<style scoped>\n    .dataframe tbody tr th:only-of-type {\n        vertical-align: middle;\n    }\n\n    .dataframe tbody tr th {\n        vertical-align: top;\n    }\n\n    .dataframe thead th {\n        text-align: right;\n    }\n</style>\n<table border=\"1\" class=\"dataframe\">\n  <thead>\n    <tr style=\"text-align: right;\">\n      <th></th>\n      <th>system</th>\n      <th>user</th>\n      <th>assistant</th>\n    </tr>\n  </thead>\n  <tbody>\n    <tr>\n      <th>3374</th>\n      <td>\\nYou are a helpful assistant for matching pat...</td>\n      <td>\\nHere is the patient note:\\n1. The patient is...</td>\n      <td>{\\n    \"inclusion_criterion_1\": [\"The patient ...</td>\n    </tr>\n    <tr>\n      <th>3737</th>\n      <td>\\nYou are a helpful assistant for matching pat...</td>\n      <td>\\nHere is the patient note:\\n1. The patient is...</td>\n      <td>{\\n    \"inclusion_criterion_1\": [\"The patient ...</td>\n    </tr>\n    <tr>\n      <th>2177</th>\n      <td>\\nYou are a helpful assistant for matching pat...</td>\n      <td>\\nHere is the patient note:\\n1. The patient is...</td>\n      <td>{\\n\"inclusion_criterion_1\": [\"The patient is 2...</td>\n    </tr>\n    <tr>\n      <th>2291</th>\n      <td>\\nYou are a helpful assistant for matching pat...</td>\n      <td>\\nHere is the patient note:\\n1. The patient is...</td>\n      <td>{\\n    \"inclusion_criterion_1\": [\"The patient ...</td>\n    </tr>\n    <tr>\n      <th>1661</th>\n      <td>\\nYou are a helpful assistant for matching pat...</td>\n      <td>\\nHere is the patient note:\\n1. The patient is...</td>\n      <td>{\\n    \"inclusion_criterion_1\": [\"The patient ...</td>\n    </tr>\n    <tr>\n      <th>...</th>\n      <td>...</td>\n      <td>...</td>\n      <td>...</td>\n    </tr>\n    <tr>\n      <th>21</th>\n      <td>\\nYou are a helpful assistant for matching pat...</td>\n      <td>Here is the patient note:\\n1. Patient is a 55y...</td>\n      <td>{\\n    \"inclusion_criterion_1\": [\"The patient ...</td>\n    </tr>\n    <tr>\n      <th>22</th>\n      <td>\\nYou are a helpful assistant for matching pat...</td>\n      <td>Here is the patient note:\\n1. Patient is a 55y...</td>\n      <td>{\\n    \"inclusion_criterion_1\": [\"The patient ...</td>\n    </tr>\n    <tr>\n      <th>23</th>\n      <td>\\nYou are a helpful assistant for matching pat...</td>\n      <td>Here is the patient note:\\n1. Patient is a 55y...</td>\n      <td>{\\n    \"inclusion_criterion_1\": [\"The patient ...</td>\n    </tr>\n    <tr>\n      <th>24</th>\n      <td>\\nYou are a helpful assistant for matching pat...</td>\n      <td>Here is the patient note:\\n1. The patient is a...</td>\n      <td>{\\n    \"inclusion_criterion_1\": [\"The patient'...</td>\n    </tr>\n    <tr>\n      <th>25</th>\n      <td>\\nYou are a helpful assistant for matching pat...</td>\n      <td>Here is the patient note:\\n1. The patient is a...</td>\n      <td>{\\n    \"inclusion_criterion_1\": [\"The patient'...</td>\n    </tr>\n  </tbody>\n</table>\n<p>1004 rows × 3 columns</p>\n</div>"
     },
     "execution_count": 286,
     "metadata": {},
     "output_type": "execute_result"
    }
   ],
   "source": [
    "df_train_merged"
   ],
   "metadata": {
    "collapsed": false,
    "ExecuteTime": {
     "end_time": "2024-04-18T21:38:02.947436Z",
     "start_time": "2024-04-18T21:38:02.900322Z"
    }
   },
   "id": "ab3c80eafa8a10d3"
  },
  {
   "cell_type": "code",
   "execution_count": 287,
   "outputs": [],
   "source": [
    "df_train_merged_shuffled = df_train_merged.sample(frac=1).reset_index(drop=True)"
   ],
   "metadata": {
    "collapsed": false,
    "ExecuteTime": {
     "end_time": "2024-04-18T21:38:10.348477Z",
     "start_time": "2024-04-18T21:38:10.309383Z"
    }
   },
   "id": "9d629918bd0553e2"
  },
  {
   "cell_type": "code",
   "execution_count": 288,
   "outputs": [],
   "source": [
    "def get_prompt(system_content, user_content, assistant_content):\n",
    "    template = {\n",
    "        \"messages\": [\n",
    "            {\"role\": \"system\", \"content\": system_content},\n",
    "            {\"role\": \"user\", \"content\": user_content},\n",
    "            {\"role\": \"assistant\", \"content\": assistant_content}\n",
    "        ]\n",
    "    }\n",
    "    \n",
    "    return template"
   ],
   "metadata": {
    "collapsed": false,
    "ExecuteTime": {
     "end_time": "2024-04-18T21:38:12.479202Z",
     "start_time": "2024-04-18T21:38:12.444993Z"
    }
   },
   "id": "7a99d31d1eaec3b2"
  },
  {
   "cell_type": "code",
   "execution_count": 289,
   "outputs": [],
   "source": [
    "def to_jsonl(file_path, prompts):\n",
    "    with open(file_path, 'w') as file:\n",
    "        for prompt in prompts:\n",
    "            json.dump(prompt, file)\n",
    "            file.write('\\n')"
   ],
   "metadata": {
    "collapsed": false,
    "ExecuteTime": {
     "end_time": "2024-04-18T21:38:13.593939Z",
     "start_time": "2024-04-18T21:38:13.536161Z"
    }
   },
   "id": "f51bec38109636e6"
  },
  {
   "cell_type": "code",
   "execution_count": 290,
   "outputs": [],
   "source": [
    "prompts_list = df_train_merged_shuffled.apply(lambda row: get_prompt(row['system'], row['user'], row['assistant']), axis=1)"
   ],
   "metadata": {
    "collapsed": false,
    "ExecuteTime": {
     "end_time": "2024-04-18T21:38:15.584475Z",
     "start_time": "2024-04-18T21:38:15.559806Z"
    }
   },
   "id": "6e257438b02437c7"
  },
  {
   "cell_type": "code",
   "execution_count": 291,
   "outputs": [
    {
     "data": {
      "text/plain": "(1004,)"
     },
     "execution_count": 291,
     "metadata": {},
     "output_type": "execute_result"
    }
   ],
   "source": [
    "prompts_list.shape"
   ],
   "metadata": {
    "collapsed": false,
    "ExecuteTime": {
     "end_time": "2024-04-18T21:38:17.856600Z",
     "start_time": "2024-04-18T21:38:17.831874Z"
    }
   },
   "id": "975f5c495f9c4ce7"
  },
  {
   "cell_type": "code",
   "execution_count": 292,
   "outputs": [],
   "source": [
    "file_path = \"train_data_gpt_2.jsonl\"\n",
    "\n",
    "to_jsonl(file_path, prompts_list)"
   ],
   "metadata": {
    "collapsed": false,
    "ExecuteTime": {
     "end_time": "2024-04-18T21:38:28.175360Z",
     "start_time": "2024-04-18T21:38:28.104803Z"
    }
   },
   "id": "bd24305e51d3ddf0"
  },
  {
   "cell_type": "code",
   "execution_count": null,
   "outputs": [],
   "source": [],
   "metadata": {
    "collapsed": false
   },
   "id": "6719474ecd909e7e"
  }
 ],
 "metadata": {
  "kernelspec": {
   "display_name": "Python 3",
   "language": "python",
   "name": "python3"
  },
  "language_info": {
   "codemirror_mode": {
    "name": "ipython",
    "version": 2
   },
   "file_extension": ".py",
   "mimetype": "text/x-python",
   "name": "python",
   "nbconvert_exporter": "python",
   "pygments_lexer": "ipython2",
   "version": "2.7.6"
  }
 },
 "nbformat": 4,
 "nbformat_minor": 5
}
